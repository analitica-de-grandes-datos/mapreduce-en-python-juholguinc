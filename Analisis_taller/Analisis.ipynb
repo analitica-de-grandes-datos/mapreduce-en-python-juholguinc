{
 "cells": [
  {
   "cell_type": "markdown",
   "id": "c6c7c74c",
   "metadata": {},
   "source": [
    "# Pregunta1"
   ]
  },
  {
   "cell_type": "code",
   "execution_count": 36,
   "id": "0f7515d8",
   "metadata": {},
   "outputs": [
    {
     "name": "stdout",
     "output_type": "stream",
     "text": [
      "Writing mapper_0.py\n"
     ]
    }
   ],
   "source": [
    "%%writefile mapper_0.py\n",
    "#! /usr/bin/ python3\n",
    "\n",
    "#\n",
    "# Esta es la funcion que mapea la entrada a parejas (clave, valor)\n",
    "#\n",
    "import sys\n",
    "if __name__ == \"__main__\":\n",
    "\n",
    "    #\n",
    "    # itera sobre cada linea de codigo recibida\n",
    "    # a traves del flujo de entrada\n",
    "    #\n",
    "    for line in sys.stdin:\n",
    "\n",
    "        #\n",
    "        # genera las tuplas palabra \\tabulador 1\n",
    "        # ya que es un conteo de palabras\n",
    "        #\n",
    "        print (line)\n",
    "        print (type(line))\n",
    "        a = line.split(',')\n",
    "        print (a[2])\n",
    "        \n",
    "        for word in line.split(','):\n",
    "\n",
    "            #\n",
    "            # escribe al flujo estandar de salida\n",
    "            #\n",
    "            #sys.stdout.write(\"{}\\t1\\n\".format(word))\n",
    "            print (type(word)) \n",
    "            sys.stdout.write(word)"
   ]
  },
  {
   "cell_type": "code",
   "execution_count": 41,
   "id": "508c0fcb",
   "metadata": {},
   "outputs": [
    {
     "name": "stdout",
     "output_type": "stream",
     "text": [
      "Overwriting mapper.py\n"
     ]
    }
   ],
   "source": [
    "%%writefile mapper.py\n",
    "import sys\n",
    "if __name__ == \"__main__\":\n",
    "    for line in sys.stdin:\n",
    "        #print (line)\n",
    "        #print (type(line))\n",
    "        word = line.split(',')\n",
    "        #print (word[2])\n",
    "        sys.stdout.write(\"{}\\t1\\n\".format(word[2]))\n",
    "        "
   ]
  },
  {
   "cell_type": "code",
   "execution_count": 43,
   "id": "876867ef",
   "metadata": {},
   "outputs": [
    {
     "name": "stdout",
     "output_type": "stream",
     "text": [
      "credit_history\t1\r\n",
      "critical\t1\r\n",
      "repaid\t1\r\n",
      "critical\t1\r\n",
      "repaid\t1\r\n",
      "delayed\t1\r\n",
      "repaid\t1\r\n",
      "repaid\t1\r\n",
      "repaid\t1\r\n",
      "repaid\t1\r\n"
     ]
    }
   ],
   "source": [
    "!head  ../pregunta_01/credit.csv | python mapper.py"
   ]
  },
  {
   "cell_type": "code",
   "execution_count": null,
   "id": "1d521a45",
   "metadata": {},
   "outputs": [],
   "source": []
  },
  {
   "cell_type": "code",
   "execution_count": 44,
   "id": "35d23cd6",
   "metadata": {},
   "outputs": [
    {
     "name": "stdout",
     "output_type": "stream",
     "text": [
      "Writing reducer.py\n"
     ]
    }
   ],
   "source": [
    "%%writefile reducer.py\n",
    "#! /usr/bin python3\n",
    "\n",
    "import sys\n",
    "\n",
    "#\n",
    "# Esta funcion reduce los elementos que tienen la misma clave\n",
    "#\n",
    "if __name__ == '__main__':\n",
    "\n",
    "    curkey = None\n",
    "    total = 0\n",
    "\n",
    "    #\n",
    "    # cada linea de texto recibida es una entrada clave \\tabulador valor\n",
    "    #\n",
    "    for line in sys.stdin:\n",
    "\n",
    "        key, val = line.split(\"\\t\")\n",
    "        val = int(val)\n",
    "\n",
    "        if key == curkey:\n",
    "            #\n",
    "            # No se ha cambiado de clave. Aca se acumulan los valores para la misma\n",
    "            # clave.\n",
    "            #\n",
    "            total += val\n",
    "        else:\n",
    "            #\n",
    "            # Se cambio de clave. Se reinicia el acumulador.\n",
    "            #\n",
    "            if curkey is not None:\n",
    "                #\n",
    "                # una vez se han reducido todos los elementos\n",
    "                # con la misma clave se imprime el resultado en\n",
    "                # el flujo de salida\n",
    "                #\n",
    "                sys.stdout.write(\"{}\\t{}\\n\".format(curkey, total))\n",
    "\n",
    "            curkey = key\n",
    "            total = val\n",
    "\n",
    "    sys.stdout.write(\"{}\\t{}\\n\".format(curkey, total))"
   ]
  },
  {
   "cell_type": "code",
   "execution_count": 45,
   "id": "6f47b40d",
   "metadata": {},
   "outputs": [
    {
     "name": "stdout",
     "output_type": "stream",
     "text": [
      "credit_history\t1\r\n",
      "critical\t293\r\n",
      "delayed\t88\r\n",
      "fully repaid\t40\r\n",
      "fully repaid this bank\t49\r\n",
      "repaid\t530\r\n"
     ]
    }
   ],
   "source": [
    "cat ../pregunta_01/credit.csv | python mapper.py | sort | python reducer.py "
   ]
  },
  {
   "cell_type": "code",
   "execution_count": 68,
   "id": "2f8c9fb8",
   "metadata": {},
   "outputs": [
    {
     "data": {
      "text/html": [
       "<div>\n",
       "<style scoped>\n",
       "    .dataframe tbody tr th:only-of-type {\n",
       "        vertical-align: middle;\n",
       "    }\n",
       "\n",
       "    .dataframe tbody tr th {\n",
       "        vertical-align: top;\n",
       "    }\n",
       "\n",
       "    .dataframe thead th {\n",
       "        text-align: right;\n",
       "    }\n",
       "</style>\n",
       "<table border=\"1\" class=\"dataframe\">\n",
       "  <thead>\n",
       "    <tr style=\"text-align: right;\">\n",
       "      <th></th>\n",
       "      <th>checking_balance</th>\n",
       "      <th>months_loan_duration</th>\n",
       "      <th>credit_history</th>\n",
       "      <th>purpose</th>\n",
       "      <th>amount</th>\n",
       "      <th>savings_balance</th>\n",
       "      <th>employment_length</th>\n",
       "      <th>installment_rate</th>\n",
       "      <th>personal_status</th>\n",
       "      <th>other_debtors</th>\n",
       "      <th>...</th>\n",
       "      <th>property</th>\n",
       "      <th>age</th>\n",
       "      <th>installment_plan</th>\n",
       "      <th>housing</th>\n",
       "      <th>existing_credits</th>\n",
       "      <th>default</th>\n",
       "      <th>dependents</th>\n",
       "      <th>telephone</th>\n",
       "      <th>foreign_worker</th>\n",
       "      <th>job</th>\n",
       "    </tr>\n",
       "  </thead>\n",
       "  <tbody>\n",
       "    <tr>\n",
       "      <th>0</th>\n",
       "      <td>&lt; 0 DM</td>\n",
       "      <td>6</td>\n",
       "      <td>critical</td>\n",
       "      <td>radio/tv</td>\n",
       "      <td>1169</td>\n",
       "      <td>unknown</td>\n",
       "      <td>&gt; 7 yrs</td>\n",
       "      <td>4</td>\n",
       "      <td>single male</td>\n",
       "      <td>none</td>\n",
       "      <td>...</td>\n",
       "      <td>real estate</td>\n",
       "      <td>67</td>\n",
       "      <td>none</td>\n",
       "      <td>own</td>\n",
       "      <td>2</td>\n",
       "      <td>1</td>\n",
       "      <td>1</td>\n",
       "      <td>yes</td>\n",
       "      <td>yes</td>\n",
       "      <td>skilled employee</td>\n",
       "    </tr>\n",
       "    <tr>\n",
       "      <th>1</th>\n",
       "      <td>1 - 200 DM</td>\n",
       "      <td>48</td>\n",
       "      <td>repaid</td>\n",
       "      <td>radio/tv</td>\n",
       "      <td>5951</td>\n",
       "      <td>&lt; 100 DM</td>\n",
       "      <td>1 - 4 yrs</td>\n",
       "      <td>2</td>\n",
       "      <td>female</td>\n",
       "      <td>none</td>\n",
       "      <td>...</td>\n",
       "      <td>real estate</td>\n",
       "      <td>22</td>\n",
       "      <td>none</td>\n",
       "      <td>own</td>\n",
       "      <td>1</td>\n",
       "      <td>2</td>\n",
       "      <td>1</td>\n",
       "      <td>none</td>\n",
       "      <td>yes</td>\n",
       "      <td>skilled employee</td>\n",
       "    </tr>\n",
       "    <tr>\n",
       "      <th>2</th>\n",
       "      <td>unknown</td>\n",
       "      <td>12</td>\n",
       "      <td>critical</td>\n",
       "      <td>education</td>\n",
       "      <td>2096</td>\n",
       "      <td>&lt; 100 DM</td>\n",
       "      <td>4 - 7 yrs</td>\n",
       "      <td>2</td>\n",
       "      <td>single male</td>\n",
       "      <td>none</td>\n",
       "      <td>...</td>\n",
       "      <td>real estate</td>\n",
       "      <td>49</td>\n",
       "      <td>none</td>\n",
       "      <td>own</td>\n",
       "      <td>1</td>\n",
       "      <td>1</td>\n",
       "      <td>2</td>\n",
       "      <td>none</td>\n",
       "      <td>yes</td>\n",
       "      <td>unskilled resident</td>\n",
       "    </tr>\n",
       "    <tr>\n",
       "      <th>3</th>\n",
       "      <td>&lt; 0 DM</td>\n",
       "      <td>42</td>\n",
       "      <td>repaid</td>\n",
       "      <td>furniture</td>\n",
       "      <td>7882</td>\n",
       "      <td>&lt; 100 DM</td>\n",
       "      <td>4 - 7 yrs</td>\n",
       "      <td>2</td>\n",
       "      <td>single male</td>\n",
       "      <td>guarantor</td>\n",
       "      <td>...</td>\n",
       "      <td>building society savings</td>\n",
       "      <td>45</td>\n",
       "      <td>none</td>\n",
       "      <td>for free</td>\n",
       "      <td>1</td>\n",
       "      <td>1</td>\n",
       "      <td>2</td>\n",
       "      <td>none</td>\n",
       "      <td>yes</td>\n",
       "      <td>skilled employee</td>\n",
       "    </tr>\n",
       "    <tr>\n",
       "      <th>4</th>\n",
       "      <td>&lt; 0 DM</td>\n",
       "      <td>24</td>\n",
       "      <td>delayed</td>\n",
       "      <td>car (new)</td>\n",
       "      <td>4870</td>\n",
       "      <td>&lt; 100 DM</td>\n",
       "      <td>1 - 4 yrs</td>\n",
       "      <td>3</td>\n",
       "      <td>single male</td>\n",
       "      <td>none</td>\n",
       "      <td>...</td>\n",
       "      <td>unknown/none</td>\n",
       "      <td>53</td>\n",
       "      <td>none</td>\n",
       "      <td>for free</td>\n",
       "      <td>2</td>\n",
       "      <td>2</td>\n",
       "      <td>2</td>\n",
       "      <td>none</td>\n",
       "      <td>yes</td>\n",
       "      <td>skilled employee</td>\n",
       "    </tr>\n",
       "    <tr>\n",
       "      <th>...</th>\n",
       "      <td>...</td>\n",
       "      <td>...</td>\n",
       "      <td>...</td>\n",
       "      <td>...</td>\n",
       "      <td>...</td>\n",
       "      <td>...</td>\n",
       "      <td>...</td>\n",
       "      <td>...</td>\n",
       "      <td>...</td>\n",
       "      <td>...</td>\n",
       "      <td>...</td>\n",
       "      <td>...</td>\n",
       "      <td>...</td>\n",
       "      <td>...</td>\n",
       "      <td>...</td>\n",
       "      <td>...</td>\n",
       "      <td>...</td>\n",
       "      <td>...</td>\n",
       "      <td>...</td>\n",
       "      <td>...</td>\n",
       "      <td>...</td>\n",
       "    </tr>\n",
       "    <tr>\n",
       "      <th>995</th>\n",
       "      <td>unknown</td>\n",
       "      <td>12</td>\n",
       "      <td>repaid</td>\n",
       "      <td>furniture</td>\n",
       "      <td>1736</td>\n",
       "      <td>&lt; 100 DM</td>\n",
       "      <td>4 - 7 yrs</td>\n",
       "      <td>3</td>\n",
       "      <td>female</td>\n",
       "      <td>none</td>\n",
       "      <td>...</td>\n",
       "      <td>real estate</td>\n",
       "      <td>31</td>\n",
       "      <td>none</td>\n",
       "      <td>own</td>\n",
       "      <td>1</td>\n",
       "      <td>1</td>\n",
       "      <td>1</td>\n",
       "      <td>none</td>\n",
       "      <td>yes</td>\n",
       "      <td>unskilled resident</td>\n",
       "    </tr>\n",
       "    <tr>\n",
       "      <th>996</th>\n",
       "      <td>&lt; 0 DM</td>\n",
       "      <td>30</td>\n",
       "      <td>repaid</td>\n",
       "      <td>car (used)</td>\n",
       "      <td>3857</td>\n",
       "      <td>&lt; 100 DM</td>\n",
       "      <td>1 - 4 yrs</td>\n",
       "      <td>4</td>\n",
       "      <td>divorced male</td>\n",
       "      <td>none</td>\n",
       "      <td>...</td>\n",
       "      <td>building society savings</td>\n",
       "      <td>40</td>\n",
       "      <td>none</td>\n",
       "      <td>own</td>\n",
       "      <td>1</td>\n",
       "      <td>1</td>\n",
       "      <td>1</td>\n",
       "      <td>yes</td>\n",
       "      <td>yes</td>\n",
       "      <td>mangement self-employed</td>\n",
       "    </tr>\n",
       "    <tr>\n",
       "      <th>997</th>\n",
       "      <td>unknown</td>\n",
       "      <td>12</td>\n",
       "      <td>repaid</td>\n",
       "      <td>radio/tv</td>\n",
       "      <td>804</td>\n",
       "      <td>&lt; 100 DM</td>\n",
       "      <td>&gt; 7 yrs</td>\n",
       "      <td>4</td>\n",
       "      <td>single male</td>\n",
       "      <td>none</td>\n",
       "      <td>...</td>\n",
       "      <td>other</td>\n",
       "      <td>38</td>\n",
       "      <td>none</td>\n",
       "      <td>own</td>\n",
       "      <td>1</td>\n",
       "      <td>1</td>\n",
       "      <td>1</td>\n",
       "      <td>none</td>\n",
       "      <td>yes</td>\n",
       "      <td>skilled employee</td>\n",
       "    </tr>\n",
       "    <tr>\n",
       "      <th>998</th>\n",
       "      <td>&lt; 0 DM</td>\n",
       "      <td>45</td>\n",
       "      <td>repaid</td>\n",
       "      <td>radio/tv</td>\n",
       "      <td>1845</td>\n",
       "      <td>&lt; 100 DM</td>\n",
       "      <td>1 - 4 yrs</td>\n",
       "      <td>4</td>\n",
       "      <td>single male</td>\n",
       "      <td>none</td>\n",
       "      <td>...</td>\n",
       "      <td>unknown/none</td>\n",
       "      <td>23</td>\n",
       "      <td>none</td>\n",
       "      <td>for free</td>\n",
       "      <td>1</td>\n",
       "      <td>2</td>\n",
       "      <td>1</td>\n",
       "      <td>yes</td>\n",
       "      <td>yes</td>\n",
       "      <td>skilled employee</td>\n",
       "    </tr>\n",
       "    <tr>\n",
       "      <th>999</th>\n",
       "      <td>1 - 200 DM</td>\n",
       "      <td>45</td>\n",
       "      <td>critical</td>\n",
       "      <td>car (used)</td>\n",
       "      <td>4576</td>\n",
       "      <td>101 - 500 DM</td>\n",
       "      <td>unemployed</td>\n",
       "      <td>3</td>\n",
       "      <td>single male</td>\n",
       "      <td>none</td>\n",
       "      <td>...</td>\n",
       "      <td>other</td>\n",
       "      <td>27</td>\n",
       "      <td>none</td>\n",
       "      <td>own</td>\n",
       "      <td>1</td>\n",
       "      <td>1</td>\n",
       "      <td>1</td>\n",
       "      <td>none</td>\n",
       "      <td>yes</td>\n",
       "      <td>skilled employee</td>\n",
       "    </tr>\n",
       "  </tbody>\n",
       "</table>\n",
       "<p>1000 rows × 21 columns</p>\n",
       "</div>"
      ],
      "text/plain": [
       "    checking_balance  months_loan_duration credit_history     purpose  amount  \\\n",
       "0             < 0 DM                     6       critical    radio/tv    1169   \n",
       "1         1 - 200 DM                    48         repaid    radio/tv    5951   \n",
       "2            unknown                    12       critical   education    2096   \n",
       "3             < 0 DM                    42         repaid   furniture    7882   \n",
       "4             < 0 DM                    24        delayed   car (new)    4870   \n",
       "..               ...                   ...            ...         ...     ...   \n",
       "995          unknown                    12         repaid   furniture    1736   \n",
       "996           < 0 DM                    30         repaid  car (used)    3857   \n",
       "997          unknown                    12         repaid    radio/tv     804   \n",
       "998           < 0 DM                    45         repaid    radio/tv    1845   \n",
       "999       1 - 200 DM                    45       critical  car (used)    4576   \n",
       "\n",
       "    savings_balance employment_length  installment_rate personal_status  \\\n",
       "0           unknown           > 7 yrs                 4     single male   \n",
       "1          < 100 DM         1 - 4 yrs                 2          female   \n",
       "2          < 100 DM         4 - 7 yrs                 2     single male   \n",
       "3          < 100 DM         4 - 7 yrs                 2     single male   \n",
       "4          < 100 DM         1 - 4 yrs                 3     single male   \n",
       "..              ...               ...               ...             ...   \n",
       "995        < 100 DM         4 - 7 yrs                 3          female   \n",
       "996        < 100 DM         1 - 4 yrs                 4   divorced male   \n",
       "997        < 100 DM           > 7 yrs                 4     single male   \n",
       "998        < 100 DM         1 - 4 yrs                 4     single male   \n",
       "999    101 - 500 DM        unemployed                 3     single male   \n",
       "\n",
       "    other_debtors  ...                  property age  installment_plan  \\\n",
       "0            none  ...               real estate  67              none   \n",
       "1            none  ...               real estate  22              none   \n",
       "2            none  ...               real estate  49              none   \n",
       "3       guarantor  ...  building society savings  45              none   \n",
       "4            none  ...              unknown/none  53              none   \n",
       "..            ...  ...                       ...  ..               ...   \n",
       "995          none  ...               real estate  31              none   \n",
       "996          none  ...  building society savings  40              none   \n",
       "997          none  ...                     other  38              none   \n",
       "998          none  ...              unknown/none  23              none   \n",
       "999          none  ...                     other  27              none   \n",
       "\n",
       "      housing existing_credits  default  dependents  telephone foreign_worker  \\\n",
       "0         own                2        1           1        yes            yes   \n",
       "1         own                1        2           1       none            yes   \n",
       "2         own                1        1           2       none            yes   \n",
       "3    for free                1        1           2       none            yes   \n",
       "4    for free                2        2           2       none            yes   \n",
       "..        ...              ...      ...         ...        ...            ...   \n",
       "995       own                1        1           1       none            yes   \n",
       "996       own                1        1           1        yes            yes   \n",
       "997       own                1        1           1       none            yes   \n",
       "998  for free                1        2           1        yes            yes   \n",
       "999       own                1        1           1       none            yes   \n",
       "\n",
       "                         job  \n",
       "0           skilled employee  \n",
       "1           skilled employee  \n",
       "2         unskilled resident  \n",
       "3           skilled employee  \n",
       "4           skilled employee  \n",
       "..                       ...  \n",
       "995       unskilled resident  \n",
       "996  mangement self-employed  \n",
       "997         skilled employee  \n",
       "998         skilled employee  \n",
       "999         skilled employee  \n",
       "\n",
       "[1000 rows x 21 columns]"
      ]
     },
     "execution_count": 68,
     "metadata": {},
     "output_type": "execute_result"
    }
   ],
   "source": [
    "import pandas as pd\n",
    "df = pd.read_csv(\"../pregunta_01/credit.csv\", sep=\",\")\n",
    "df[\"credit_history\"]\n",
    "df[[\"amount\", \"purpose\"]]\n",
    "df"
   ]
  },
  {
   "cell_type": "markdown",
   "id": "4cd5b651",
   "metadata": {},
   "source": [
    "# Pregunta 2"
   ]
  },
  {
   "cell_type": "code",
   "execution_count": 69,
   "id": "74acd332",
   "metadata": {},
   "outputs": [
    {
     "name": "stdout",
     "output_type": "stream",
     "text": [
      "Writing mapper_02.py\n"
     ]
    }
   ],
   "source": [
    "%%writefile mapper_02.py\n",
    "import sys\n",
    "if __name__ == \"__main__\":\n",
    "    for line in sys.stdin:\n",
    "        #print (line)\n",
    "        #print (type(line))\n",
    "        word = line.split(',')\n",
    "        #print (word[2])\n",
    "        sys.stdout.write(\"{}\\t{}\\n\".format(word[3],word[4]))"
   ]
  },
  {
   "cell_type": "code",
   "execution_count": 71,
   "id": "7baeccf0",
   "metadata": {},
   "outputs": [
    {
     "name": "stdout",
     "output_type": "stream",
     "text": [
      "radio/tv\t1169\r\n",
      "radio/tv\t5951\r\n",
      "education\t2096\r\n",
      "furniture\t7882\r\n",
      "car (new)\t4870\r\n",
      "education\t9055\r\n",
      "furniture\t2835\r\n",
      "car (used)\t6948\r\n",
      "radio/tv\t3059\r\n",
      "car (new)\t5234\r\n"
     ]
    }
   ],
   "source": [
    "!head  ../pregunta_02/credit.csv | python mapper_02.py"
   ]
  },
  {
   "cell_type": "code",
   "execution_count": null,
   "id": "00ca7fd3",
   "metadata": {},
   "outputs": [],
   "source": []
  },
  {
   "cell_type": "code",
   "execution_count": 67,
   "id": "183da1e4",
   "metadata": {},
   "outputs": [
    {
     "data": {
      "text/html": [
       "<div>\n",
       "<style scoped>\n",
       "    .dataframe tbody tr th:only-of-type {\n",
       "        vertical-align: middle;\n",
       "    }\n",
       "\n",
       "    .dataframe tbody tr th {\n",
       "        vertical-align: top;\n",
       "    }\n",
       "\n",
       "    .dataframe thead th {\n",
       "        text-align: right;\n",
       "    }\n",
       "</style>\n",
       "<table border=\"1\" class=\"dataframe\">\n",
       "  <thead>\n",
       "    <tr style=\"text-align: right;\">\n",
       "      <th></th>\n",
       "      <th>3</th>\n",
       "      <th>4</th>\n",
       "    </tr>\n",
       "  </thead>\n",
       "  <tbody>\n",
       "    <tr>\n",
       "      <th>0</th>\n",
       "      <td>radio/tv</td>\n",
       "      <td>1169</td>\n",
       "    </tr>\n",
       "    <tr>\n",
       "      <th>1</th>\n",
       "      <td>radio/tv</td>\n",
       "      <td>5951</td>\n",
       "    </tr>\n",
       "    <tr>\n",
       "      <th>2</th>\n",
       "      <td>education</td>\n",
       "      <td>2096</td>\n",
       "    </tr>\n",
       "    <tr>\n",
       "      <th>3</th>\n",
       "      <td>furniture</td>\n",
       "      <td>7882</td>\n",
       "    </tr>\n",
       "    <tr>\n",
       "      <th>4</th>\n",
       "      <td>car (new)</td>\n",
       "      <td>4870</td>\n",
       "    </tr>\n",
       "    <tr>\n",
       "      <th>...</th>\n",
       "      <td>...</td>\n",
       "      <td>...</td>\n",
       "    </tr>\n",
       "    <tr>\n",
       "      <th>995</th>\n",
       "      <td>furniture</td>\n",
       "      <td>1736</td>\n",
       "    </tr>\n",
       "    <tr>\n",
       "      <th>996</th>\n",
       "      <td>car (used)</td>\n",
       "      <td>3857</td>\n",
       "    </tr>\n",
       "    <tr>\n",
       "      <th>997</th>\n",
       "      <td>radio/tv</td>\n",
       "      <td>804</td>\n",
       "    </tr>\n",
       "    <tr>\n",
       "      <th>998</th>\n",
       "      <td>radio/tv</td>\n",
       "      <td>1845</td>\n",
       "    </tr>\n",
       "    <tr>\n",
       "      <th>999</th>\n",
       "      <td>car (used)</td>\n",
       "      <td>4576</td>\n",
       "    </tr>\n",
       "  </tbody>\n",
       "</table>\n",
       "<p>1000 rows × 2 columns</p>\n",
       "</div>"
      ],
      "text/plain": [
       "              3     4\n",
       "0      radio/tv  1169\n",
       "1      radio/tv  5951\n",
       "2     education  2096\n",
       "3     furniture  7882\n",
       "4     car (new)  4870\n",
       "..          ...   ...\n",
       "995   furniture  1736\n",
       "996  car (used)  3857\n",
       "997    radio/tv   804\n",
       "998    radio/tv  1845\n",
       "999  car (used)  4576\n",
       "\n",
       "[1000 rows x 2 columns]"
      ]
     },
     "execution_count": 67,
     "metadata": {},
     "output_type": "execute_result"
    }
   ],
   "source": [
    "import pandas as pd\n",
    "df2 = pd.read_csv(\"../pregunta_02/credit.csv\", header=None,sep=\",\")\n",
    "#df2[[\"3\", \"2\"]]\n",
    "df2[[3, 4]]"
   ]
  },
  {
   "cell_type": "code",
   "execution_count": 91,
   "id": "822b0adc",
   "metadata": {},
   "outputs": [
    {
     "name": "stdout",
     "output_type": "stream",
     "text": [
      "Overwriting reducer_02.py\n"
     ]
    }
   ],
   "source": [
    "%%writefile reducer_02.py\n",
    "#! /usr/bin python3\n",
    "\n",
    "import sys\n",
    "\n",
    "#\n",
    "# Esta funcion reduce los elementos que tienen la misma clave\n",
    "#\n",
    "if __name__ == '__main__':\n",
    "\n",
    "    curkey = None\n",
    "    \n",
    "    #\n",
    "    # cada linea de texto recibida es una entrada clave \\tabulador valor\n",
    "    #\n",
    "    ant = 0\n",
    "    for line in sys.stdin:\n",
    "\n",
    "        key, val = line.split(\"\\t\")\n",
    "        val = int(val)\n",
    "        \n",
    "        if key == curkey:\n",
    "            #\n",
    "            # No se ha cambiado de clave. Aca se acumulan los valores para la misma\n",
    "            # clave.\n",
    "            #\n",
    "            if val >= ant:\n",
    "                ant = val\n",
    "        else:\n",
    "            #\n",
    "            # Se cambio de clave. Se reinicia el acumulador.\n",
    "            #\n",
    "            if curkey is not None:\n",
    "                #\n",
    "                # una vez se han reducido todos los elementos\n",
    "                # con la misma clave se imprime el resultado en\n",
    "                # el flujo de salida\n",
    "                #\n",
    "                sys.stdout.write(\"{}\\t{}\\n\".format(curkey, ant))\n",
    "\n",
    "            curkey = key\n",
    "            ant = val\n",
    "\n",
    "    sys.stdout.write(\"{}\\t{}\\n\".format(curkey, ant))"
   ]
  },
  {
   "cell_type": "code",
   "execution_count": null,
   "id": "e9b0a57f",
   "metadata": {},
   "outputs": [],
   "source": []
  },
  {
   "cell_type": "code",
   "execution_count": 92,
   "id": "07bd9082",
   "metadata": {},
   "outputs": [
    {
     "name": "stdout",
     "output_type": "stream",
     "text": [
      "business\t15945\r\n",
      "car (new)\t14896\r\n",
      "car (used)\t12976\r\n",
      "domestic appliances\t3990\r\n",
      "education\t12612\r\n",
      "furniture\t14179\r\n",
      "others\t18424\r\n",
      "radio/tv\t15653\r\n",
      "repairs\t11998\r\n",
      "retraining\t3447\r\n"
     ]
    }
   ],
   "source": [
    "!cat ../pregunta_02/credit.csv | python3 mapper_02.py | sort | python3 reducer_02.py"
   ]
  },
  {
   "cell_type": "markdown",
   "id": "6d1d78d1",
   "metadata": {},
   "source": [
    "# Pregunta 03"
   ]
  },
  {
   "cell_type": "code",
   "execution_count": 1,
   "id": "90b49b15",
   "metadata": {},
   "outputs": [
    {
     "name": "stdout",
     "output_type": "stream",
     "text": [
      "b,6\r\n",
      "a,3\r\n",
      "d,1\r\n",
      "c,2\r\n",
      "e,4\r\n",
      "f,5"
     ]
    }
   ],
   "source": [
    "!cat ../pregunta_03/data.csv"
   ]
  },
  {
   "cell_type": "code",
   "execution_count": null,
   "id": "b7131d19",
   "metadata": {},
   "outputs": [],
   "source": []
  },
  {
   "cell_type": "code",
   "execution_count": 27,
   "id": "0e23a5c7",
   "metadata": {},
   "outputs": [
    {
     "name": "stdout",
     "output_type": "stream",
     "text": [
      "Overwriting mapper_03.py\n"
     ]
    }
   ],
   "source": [
    "%%writefile mapper_03.py\n",
    "import sys\n",
    "if __name__ == \"__main__\":\n",
    "    for line in sys.stdin:\n",
    "        #print (line)\n",
    "        #print (\"---\")\n",
    "        word = line.split(',')\n",
    "        #print (word[0])\n",
    "        #print (word[1].strip())\n",
    "        #print (word[0])\n",
    "        sys.stdout.write(\"{},{}\\n\".format(word[1].strip(),word[0]))"
   ]
  },
  {
   "cell_type": "code",
   "execution_count": null,
   "id": "3b45f86e",
   "metadata": {},
   "outputs": [],
   "source": []
  },
  {
   "cell_type": "code",
   "execution_count": 29,
   "id": "a52cda24",
   "metadata": {},
   "outputs": [
    {
     "name": "stdout",
     "output_type": "stream",
     "text": [
      "1,d\r\n",
      "2,c\r\n",
      "3,a\r\n",
      "4,e\r\n",
      "5,f\r\n",
      "6,b\r\n"
     ]
    }
   ],
   "source": [
    "!cat ../pregunta_03/data.csv | python3 mapper_03.py|sort"
   ]
  },
  {
   "cell_type": "code",
   "execution_count": 42,
   "id": "beaa6e26",
   "metadata": {},
   "outputs": [
    {
     "name": "stdout",
     "output_type": "stream",
     "text": [
      "Overwriting reducer_03.py\n"
     ]
    }
   ],
   "source": [
    "%%writefile reducer_03.py\n",
    "import sys\n",
    "if __name__ == \"__main__\":\n",
    "    for line in sys.stdin:\n",
    "        #print (line)\n",
    "        #print (\"---\")\n",
    "        word = line.split(',')\n",
    "        #print (word[0])\n",
    "        #print (word[1].strip())\n",
    "        #print (word[0])\n",
    "        sys.stdout.write(\"{},{}\\n\".format(word[1].strip(),word[0]))"
   ]
  },
  {
   "cell_type": "code",
   "execution_count": 43,
   "id": "4cab1919",
   "metadata": {},
   "outputs": [
    {
     "name": "stdout",
     "output_type": "stream",
     "text": [
      "d,1\r\n",
      "c,2\r\n",
      "a,3\r\n",
      "e,4\r\n",
      "f,5\r\n",
      "b,6\r\n"
     ]
    }
   ],
   "source": [
    "!cat ../pregunta_03/data.csv | python3 mapper_03.py|sort |python3 reducer_03.py"
   ]
  },
  {
   "cell_type": "markdown",
   "id": "34b824d5",
   "metadata": {},
   "source": [
    "# Pregunta 04"
   ]
  },
  {
   "cell_type": "code",
   "execution_count": 45,
   "id": "9db0ee1a",
   "metadata": {},
   "outputs": [
    {
     "name": "stdout",
     "output_type": "stream",
     "text": [
      "B   1999-08-28   14\r\n",
      "E   1999-12-06   12\r\n",
      "E   1993-07-21   17\r\n",
      "C   1991-02-12   13\r\n",
      "E   1995-04-25   16\r\n",
      "A   1992-08-22   14\r\n",
      "B   1999-06-11   12\r\n",
      "E   1993-01-27   13\r\n",
      "E   1999-09-10   11\r\n",
      "E   1990-05-03   16\r\n",
      "E   1994-02-14   10\r\n",
      "A   1988-04-27   12\r\n",
      "A   1990-10-06   10\r\n",
      "E   1985-02-12   16\r\n",
      "E   1998-09-14   16\r\n",
      "B   1994-08-30   17\r\n",
      "A   1997-12-15   13\r\n",
      "B   1995-08-23   10\r\n",
      "B   1998-11-22   13\r\n",
      "B   1997-04-09   14\r\n",
      "E   1993-12-27   18\r\n",
      "E   1999-01-14   15\r\n",
      "A   1992-09-19   18\r\n",
      "B   1993-03-02   14\r\n",
      "B   1999-10-21   13\r\n",
      "A   1990-08-31   12\r\n",
      "C   1994-01-25   10\r\n",
      "E   1990-02-09   18\r\n",
      "A   1990-09-26   14\r\n",
      "A   1993-05-08   16\r\n",
      "B   1995-09-06   14\r\n",
      "E   1991-02-18   14\r\n",
      "A   1993-01-11   14\r\n",
      "A   1990-07-22   18\r\n",
      "C   1994-09-09   15\r\n",
      "C   1994-07-27   10\r\n",
      "D   1990-10-10   15\r\n",
      "A   1990-09-05   11\r\n",
      "B   1991-10-01   15\r\n",
      "A   1994-10-25   13"
     ]
    }
   ],
   "source": [
    "!cat ../pregunta_04/data.csv"
   ]
  },
  {
   "cell_type": "code",
   "execution_count": 68,
   "id": "01a8ee76",
   "metadata": {},
   "outputs": [
    {
     "name": "stdout",
     "output_type": "stream",
     "text": [
      "Overwriting mapper_04.py\n"
     ]
    }
   ],
   "source": [
    "%%writefile mapper_04.py\n",
    "import sys\n",
    "if __name__ == \"__main__\":\n",
    "    for line in sys.stdin:\n",
    "        #print (line)\n",
    "        #print (\"---\")\n",
    "        word = line.split(' ')\n",
    "        print (word[0])\n",
    "        print (word[3])\n",
    "        print (word[6].strip())\n",
    "        #sys.stdout.write(\"{},{}\\n\".format(word[1].strip(),word[0]))"
   ]
  },
  {
   "cell_type": "code",
   "execution_count": 69,
   "id": "0888d8a3",
   "metadata": {},
   "outputs": [
    {
     "name": "stdout",
     "output_type": "stream",
     "text": [
      "B\r\n",
      "1999-08-28\r\n",
      "14\r\n",
      "E\r\n",
      "1999-12-06\r\n",
      "12\r\n",
      "E\r\n",
      "1993-07-21\r\n",
      "17\r\n",
      "C\r\n",
      "1991-02-12\r\n",
      "13\r\n",
      "E\r\n",
      "1995-04-25\r\n",
      "16\r\n",
      "A\r\n",
      "1992-08-22\r\n",
      "14\r\n",
      "B\r\n",
      "1999-06-11\r\n",
      "12\r\n",
      "E\r\n",
      "1993-01-27\r\n",
      "13\r\n",
      "E\r\n",
      "1999-09-10\r\n",
      "11\r\n",
      "E\r\n",
      "1990-05-03\r\n",
      "16\r\n",
      "E\r\n",
      "1994-02-14\r\n",
      "10\r\n",
      "A\r\n",
      "1988-04-27\r\n",
      "12\r\n",
      "A\r\n",
      "1990-10-06\r\n",
      "10\r\n",
      "E\r\n",
      "1985-02-12\r\n",
      "16\r\n",
      "E\r\n",
      "1998-09-14\r\n",
      "16\r\n",
      "B\r\n",
      "1994-08-30\r\n",
      "17\r\n",
      "A\r\n",
      "1997-12-15\r\n",
      "13\r\n",
      "B\r\n",
      "1995-08-23\r\n",
      "10\r\n",
      "B\r\n",
      "1998-11-22\r\n",
      "13\r\n",
      "B\r\n",
      "1997-04-09\r\n",
      "14\r\n",
      "E\r\n",
      "1993-12-27\r\n",
      "18\r\n",
      "E\r\n",
      "1999-01-14\r\n",
      "15\r\n",
      "A\r\n",
      "1992-09-19\r\n",
      "18\r\n",
      "B\r\n",
      "1993-03-02\r\n",
      "14\r\n",
      "B\r\n",
      "1999-10-21\r\n",
      "13\r\n",
      "A\r\n",
      "1990-08-31\r\n",
      "12\r\n",
      "C\r\n",
      "1994-01-25\r\n",
      "10\r\n",
      "E\r\n",
      "1990-02-09\r\n",
      "18\r\n",
      "A\r\n",
      "1990-09-26\r\n",
      "14\r\n",
      "A\r\n",
      "1993-05-08\r\n",
      "16\r\n",
      "B\r\n",
      "1995-09-06\r\n",
      "14\r\n",
      "E\r\n",
      "1991-02-18\r\n",
      "14\r\n",
      "A\r\n",
      "1993-01-11\r\n",
      "14\r\n",
      "A\r\n",
      "1990-07-22\r\n",
      "18\r\n",
      "C\r\n",
      "1994-09-09\r\n",
      "15\r\n",
      "C\r\n",
      "1994-07-27\r\n",
      "10\r\n",
      "D\r\n",
      "1990-10-10\r\n",
      "15\r\n",
      "A\r\n",
      "1990-09-05\r\n",
      "11\r\n",
      "B\r\n",
      "1991-10-01\r\n",
      "15\r\n",
      "A\r\n",
      "1994-10-25\r\n",
      "13\r\n"
     ]
    }
   ],
   "source": [
    "!cat ../pregunta_04/data.csv | python3 mapper_04.py"
   ]
  },
  {
   "cell_type": "code",
   "execution_count": 73,
   "id": "66f199a6",
   "metadata": {},
   "outputs": [],
   "source": [
    "from datetime import datetime\n",
    "sdate = '1993-07-21'\n",
    "date = datetime.fromisoformat(sdate)"
   ]
  },
  {
   "cell_type": "code",
   "execution_count": 75,
   "id": "8c1f8048",
   "metadata": {},
   "outputs": [
    {
     "data": {
      "text/plain": [
       "datetime.datetime(1993, 7, 21, 0, 0)"
      ]
     },
     "execution_count": 75,
     "metadata": {},
     "output_type": "execute_result"
    }
   ],
   "source": [
    "date"
   ]
  },
  {
   "cell_type": "code",
   "execution_count": 80,
   "id": "925aa9ec",
   "metadata": {},
   "outputs": [],
   "source": [
    "def time_to_int(dateobj):\n",
    "    total = int(dateobj.strftime('%S'))\n",
    "    total += int(dateobj.strftime('%M')) * 60\n",
    "    total += int(dateobj.strftime('%H')) * 60 * 60\n",
    "    total += (int(dateobj.strftime('%j')) - 1) * 60 * 60 * 24\n",
    "    total += (int(dateobj.strftime('%Y')) - 1970) * 60 * 60 * 24 * 365\n",
    "    return total"
   ]
  },
  {
   "cell_type": "code",
   "execution_count": 95,
   "id": "b5601aed",
   "metadata": {},
   "outputs": [
    {
     "data": {
      "text/plain": [
       "'19930721000000'"
      ]
     },
     "execution_count": 95,
     "metadata": {},
     "output_type": "execute_result"
    }
   ],
   "source": [
    "date.strftime(\"%Y%m%d%H%M%S\")"
   ]
  },
  {
   "cell_type": "code",
   "execution_count": null,
   "id": "c4f71c68",
   "metadata": {},
   "outputs": [],
   "source": []
  },
  {
   "cell_type": "code",
   "execution_count": null,
   "id": "be248cf3",
   "metadata": {},
   "outputs": [],
   "source": []
  },
  {
   "cell_type": "code",
   "execution_count": 92,
   "id": "de453518",
   "metadata": {},
   "outputs": [
    {
     "name": "stdout",
     "output_type": "stream",
     "text": [
      "Overwriting mapper_04.py\n"
     ]
    }
   ],
   "source": [
    "%%writefile mapper_04.py\n",
    "import sys\n",
    "from datetime import datetime\n",
    "\n",
    "def time_to_int(dateobj):\n",
    "    total = int(dateobj.strftime('%S'))\n",
    "    total += int(dateobj.strftime('%M')) * 60\n",
    "    total += int(dateobj.strftime('%H')) * 60 * 60\n",
    "    total += (int(dateobj.strftime('%j')) - 1) * 60 * 60 * 24\n",
    "    total += (int(dateobj.strftime('%Y')) - 1970) * 60 * 60 * 24 * 365\n",
    "    return total\n",
    "\n",
    "if __name__ == \"__main__\":\n",
    "    for line in sys.stdin:\n",
    "        #print (line)\n",
    "        #print (\"---\")\n",
    "        word = line.split(' ')\n",
    "        #print (word[0])\n",
    "        #print (word[3])\n",
    "        date = datetime.fromisoformat(word[3])\n",
    "        #print (word[6].strip())\n",
    "        sys.stdout.write(\"{},{},{}\\n\".format(str(time_to_int(date)),word[0],word[6].strip()))"
   ]
  },
  {
   "cell_type": "code",
   "execution_count": 100,
   "id": "cf171377",
   "metadata": {},
   "outputs": [
    {
     "name": "stdout",
     "output_type": "stream",
     "text": [
      "Overwriting mapper_04.py\n"
     ]
    }
   ],
   "source": [
    "%%writefile mapper_04.py\n",
    "import sys\n",
    "#from datetime import datetime\n",
    "\n",
    "if __name__ == \"__main__\":\n",
    "    for line in sys.stdin:\n",
    "        #print (line)\n",
    "        #print (\"---\")\n",
    "        word = line.split(' ')\n",
    "        #print (word[0])\n",
    "        #print (word[3])\n",
    "        #date = datetime.fromisoformat(word[3])\n",
    "        #print (word[6].strip())\n",
    "        sys.stdout.write(\"{},1\\n\".format(word[0]))"
   ]
  },
  {
   "cell_type": "code",
   "execution_count": 101,
   "id": "b6ccc7f6",
   "metadata": {},
   "outputs": [
    {
     "name": "stdout",
     "output_type": "stream",
     "text": [
      "A,1\r\n",
      "A,1\r\n",
      "A,1\r\n",
      "A,1\r\n",
      "A,1\r\n",
      "A,1\r\n",
      "A,1\r\n",
      "A,1\r\n",
      "A,1\r\n",
      "A,1\r\n",
      "A,1\r\n",
      "A,1\r\n",
      "B,1\r\n",
      "B,1\r\n",
      "B,1\r\n",
      "B,1\r\n",
      "B,1\r\n",
      "B,1\r\n",
      "B,1\r\n",
      "B,1\r\n",
      "B,1\r\n",
      "B,1\r\n",
      "C,1\r\n",
      "C,1\r\n",
      "C,1\r\n",
      "C,1\r\n",
      "D,1\r\n",
      "E,1\r\n",
      "E,1\r\n",
      "E,1\r\n",
      "E,1\r\n",
      "E,1\r\n",
      "E,1\r\n",
      "E,1\r\n",
      "E,1\r\n",
      "E,1\r\n",
      "E,1\r\n",
      "E,1\r\n",
      "E,1\r\n",
      "E,1\r\n"
     ]
    }
   ],
   "source": [
    "!cat ../pregunta_04/data.csv | python3 mapper_04.py|sort"
   ]
  },
  {
   "cell_type": "code",
   "execution_count": null,
   "id": "fe1ee80f",
   "metadata": {},
   "outputs": [],
   "source": []
  },
  {
   "cell_type": "code",
   "execution_count": 104,
   "id": "205b6c3a",
   "metadata": {},
   "outputs": [
    {
     "name": "stdout",
     "output_type": "stream",
     "text": [
      "Overwriting reducer_04.py\n"
     ]
    }
   ],
   "source": [
    "%%writefile reducer_04.py\n",
    "\n",
    "#! /usr/bin python3\n",
    "\n",
    "import sys\n",
    "\n",
    "#\n",
    "# Esta funcion reduce los elementos que tienen la misma clave\n",
    "#\n",
    "if __name__ == '__main__':\n",
    "\n",
    "    curkey = None\n",
    "    total = 0\n",
    "\n",
    "    #\n",
    "    # cada linea de texto recibida es una entrada clave \\tabulador valor\n",
    "    #\n",
    "    for line in sys.stdin:\n",
    "\n",
    "        key, val = line.split(\",\")\n",
    "        val = int(val)\n",
    "\n",
    "        if key == curkey:\n",
    "            #\n",
    "            # No se ha cambiado de clave. Aca se acumulan los valores para la misma\n",
    "            # clave.\n",
    "            #\n",
    "            total += val\n",
    "        else:\n",
    "            #\n",
    "            # Se cambio de clave. Se reinicia el acumulador.\n",
    "            #\n",
    "            if curkey is not None:\n",
    "                #\n",
    "                # una vez se han reducido todos los elementos\n",
    "                # con la misma clave se imprime el resultado en\n",
    "                # el flujo de salida\n",
    "                #\n",
    "                sys.stdout.write(\"{},{}\\n\".format(curkey, total))\n",
    "\n",
    "            curkey = key\n",
    "            total = val\n",
    "\n",
    "    sys.stdout.write(\"{},{}\\n\".format(curkey, total))"
   ]
  },
  {
   "cell_type": "code",
   "execution_count": 105,
   "id": "23b13a2e",
   "metadata": {},
   "outputs": [
    {
     "name": "stdout",
     "output_type": "stream",
     "text": [
      "A,12\r\n",
      "B,10\r\n",
      "C,4\r\n",
      "D,1\r\n",
      "E,13\r\n"
     ]
    }
   ],
   "source": [
    "!cat ../pregunta_04/data.csv | python3 mapper_04.py|sort|python3 reducer_04.py"
   ]
  },
  {
   "cell_type": "markdown",
   "id": "6bbedee5",
   "metadata": {},
   "source": [
    "# pregunta 05"
   ]
  },
  {
   "cell_type": "code",
   "execution_count": 106,
   "id": "b781ed75",
   "metadata": {},
   "outputs": [
    {
     "name": "stdout",
     "output_type": "stream",
     "text": [
      "B   1999-08-28   14\r\n",
      "E   1999-12-06   12\r\n",
      "E   1993-07-21   17\r\n",
      "C   1991-02-12   13\r\n",
      "E   1995-04-25   16\r\n",
      "A   1992-08-22   14\r\n",
      "B   1999-06-11   12\r\n",
      "E   1993-01-27   13\r\n",
      "E   1999-09-10   11\r\n",
      "E   1990-05-03   16\r\n",
      "E   1994-02-14   10\r\n",
      "A   1988-04-27   12\r\n",
      "A   1990-10-06   10\r\n",
      "E   1985-02-12   16\r\n",
      "E   1998-09-14   16\r\n",
      "B   1994-08-30   17\r\n",
      "A   1997-12-15   13\r\n",
      "B   1995-08-23   10\r\n",
      "B   1998-11-22   13\r\n",
      "B   1997-04-09   14\r\n",
      "E   1993-12-27   18\r\n",
      "E   1999-01-14   15\r\n",
      "A   1992-09-19   18\r\n",
      "B   1993-03-02   14\r\n",
      "B   1999-10-21   13\r\n",
      "A   1990-08-31   12\r\n",
      "C   1994-01-25   10\r\n",
      "E   1990-02-09   18\r\n",
      "A   1990-09-26   14\r\n",
      "A   1993-05-08   16\r\n",
      "B   1995-09-06   14\r\n",
      "E   1991-02-18   14\r\n",
      "A   1993-01-11   14\r\n",
      "A   1990-07-22   18\r\n",
      "C   1994-09-09   15\r\n",
      "C   1994-07-27   10\r\n",
      "D   1990-10-10   15\r\n",
      "A   1990-09-05   11\r\n",
      "B   1991-10-01   15\r\n",
      "A   1994-10-25   13"
     ]
    }
   ],
   "source": [
    "!cat ../pregunta_05/data.csv"
   ]
  },
  {
   "cell_type": "code",
   "execution_count": 128,
   "id": "4f383887",
   "metadata": {},
   "outputs": [
    {
     "name": "stdout",
     "output_type": "stream",
     "text": [
      "Overwriting mapper_05.py\n"
     ]
    }
   ],
   "source": [
    "%%writefile mapper_05.py\n",
    "import sys\n",
    "#from datetime import datetime\n",
    "\n",
    "if __name__ == \"__main__\":\n",
    "    for line in sys.stdin:\n",
    "        #print (line)\n",
    "        #print (\"---\")\n",
    "        word = line.split(' ')\n",
    "        #print (word[0])\n",
    "        #print (word[3])\n",
    "        #date = datetime.fromisoformat(word[3])\n",
    "        #print (word[6].strip())\n",
    "        sys.stdout.write(\"{},1\\n\".format(word[3].split('-')[1]))"
   ]
  },
  {
   "cell_type": "code",
   "execution_count": 129,
   "id": "d589d904",
   "metadata": {},
   "outputs": [
    {
     "name": "stdout",
     "output_type": "stream",
     "text": [
      "01,1\r\n",
      "01,1\r\n",
      "01,1\r\n",
      "01,1\r\n",
      "02,1\r\n",
      "02,1\r\n",
      "02,1\r\n",
      "02,1\r\n",
      "02,1\r\n",
      "03,1\r\n",
      "04,1\r\n",
      "04,1\r\n",
      "04,1\r\n",
      "05,1\r\n",
      "05,1\r\n",
      "06,1\r\n",
      "07,1\r\n",
      "07,1\r\n",
      "07,1\r\n",
      "08,1\r\n",
      "08,1\r\n",
      "08,1\r\n",
      "08,1\r\n",
      "08,1\r\n",
      "09,1\r\n",
      "09,1\r\n",
      "09,1\r\n",
      "09,1\r\n",
      "09,1\r\n",
      "09,1\r\n",
      "09,1\r\n",
      "10,1\r\n",
      "10,1\r\n",
      "10,1\r\n",
      "10,1\r\n",
      "10,1\r\n",
      "11,1\r\n",
      "12,1\r\n",
      "12,1\r\n",
      "12,1\r\n"
     ]
    }
   ],
   "source": [
    "!cat ../pregunta_05/data.csv | python3 mapper_05.py|sort"
   ]
  },
  {
   "cell_type": "code",
   "execution_count": 117,
   "id": "4a6759a8",
   "metadata": {},
   "outputs": [],
   "source": [
    "from datetime import datetime\n",
    "sdate = '1993-07-21'\n",
    "date = datetime.fromisoformat(sdate)"
   ]
  },
  {
   "cell_type": "code",
   "execution_count": 118,
   "id": "d866b90b",
   "metadata": {},
   "outputs": [
    {
     "data": {
      "text/plain": [
       "datetime.datetime(1993, 7, 21, 0, 0)"
      ]
     },
     "execution_count": 118,
     "metadata": {},
     "output_type": "execute_result"
    }
   ],
   "source": [
    "date"
   ]
  },
  {
   "cell_type": "code",
   "execution_count": 124,
   "id": "a8b422c7",
   "metadata": {},
   "outputs": [
    {
     "data": {
      "text/plain": [
       "'07'"
      ]
     },
     "execution_count": 124,
     "metadata": {},
     "output_type": "execute_result"
    }
   ],
   "source": [
    "sdate.split('-')[1]"
   ]
  },
  {
   "cell_type": "code",
   "execution_count": 131,
   "id": "83a6e820",
   "metadata": {},
   "outputs": [
    {
     "name": "stdout",
     "output_type": "stream",
     "text": [
      "Overwriting reducer_05.py\n"
     ]
    }
   ],
   "source": [
    "%%writefile reducer_05.py\n",
    "\n",
    "#! /usr/bin python3\n",
    "\n",
    "import sys\n",
    "\n",
    "#\n",
    "# Esta funcion reduce los elementos que tienen la misma clave\n",
    "#\n",
    "if __name__ == '__main__':\n",
    "\n",
    "    curkey = None\n",
    "    total = 0\n",
    "\n",
    "    #\n",
    "    # cada linea de texto recibida es una entrada clave \\tabulador valor\n",
    "    #\n",
    "    for line in sys.stdin:\n",
    "\n",
    "        key, val = line.split(\",\")\n",
    "        val = int(val)\n",
    "\n",
    "        if key == curkey:\n",
    "            #\n",
    "            # No se ha cambiado de clave. Aca se acumulan los valores para la misma\n",
    "            # clave.\n",
    "            #\n",
    "            total += val\n",
    "        else:\n",
    "            #\n",
    "            # Se cambio de clave. Se reinicia el acumulador.\n",
    "            #\n",
    "            if curkey is not None:\n",
    "                #\n",
    "                # una vez se han reducido todos los elementos\n",
    "                # con la misma clave se imprime el resultado en\n",
    "                # el flujo de salida\n",
    "                #\n",
    "                sys.stdout.write(\"{}\\t{}\\n\".format(curkey, total))\n",
    "\n",
    "            curkey = key\n",
    "            total = val\n",
    "\n",
    "    sys.stdout.write(\"{}\\t{}\\n\".format(curkey, total))"
   ]
  },
  {
   "cell_type": "code",
   "execution_count": 132,
   "id": "f5b94a9d",
   "metadata": {},
   "outputs": [
    {
     "name": "stdout",
     "output_type": "stream",
     "text": [
      "01\t4\r\n",
      "02\t5\r\n",
      "03\t1\r\n",
      "04\t3\r\n",
      "05\t2\r\n",
      "06\t1\r\n",
      "07\t3\r\n",
      "08\t5\r\n",
      "09\t7\r\n",
      "10\t5\r\n",
      "11\t1\r\n",
      "12\t3\r\n"
     ]
    }
   ],
   "source": [
    "!cat ../pregunta_05/data.csv | python3 mapper_05.py|sort|python reducer_05.py"
   ]
  },
  {
   "cell_type": "markdown",
   "id": "dc27eac3",
   "metadata": {},
   "source": [
    "# Pregunta 06"
   ]
  },
  {
   "cell_type": "code",
   "execution_count": 1,
   "id": "cdd2b6e1",
   "metadata": {},
   "outputs": [
    {
     "name": "stdout",
     "output_type": "stream",
     "text": [
      "B   1999-08-28   14.1\r\n",
      "E   1999-12-06   12.2\r\n",
      "E   1993-07-21   17.0\r\n",
      "C   1991-02-12   13.8\r\n",
      "E   1995-04-25   16.9\r\n",
      "A   1992-08-22   14.8\r\n",
      "B   1999-06-11   12.1\r\n",
      "E   1993-01-27   13.2\r\n",
      "E   1999-09-10   11.3\r\n",
      "E   1990-05-03   16.4\r\n",
      "E   1994-02-14   10.5\r\n",
      "A   1988-04-27   12.6\r\n",
      "A   1990-10-06   10.7\r\n",
      "E   1985-02-12   16.8\r\n",
      "E   1998-09-14   16.9\r\n",
      "B   1994-08-30   17.0\r\n",
      "A   1997-12-15   13.6\r\n",
      "B   1995-08-23   10.7\r\n",
      "B   1998-11-22   13.8\r\n",
      "B   1997-04-09   14.9\r\n",
      "E   1993-12-27   18.4\r\n",
      "E   1999-01-14   15.3\r\n",
      "A   1992-09-19   18.2\r\n",
      "B   1993-03-02   14.4\r\n",
      "B   1999-10-21   13.5\r\n",
      "A   1990-08-31   12.6\r\n",
      "C   1994-01-25   10.7\r\n",
      "E   1990-02-09   18.8\r\n",
      "A   1990-09-26   14.9\r\n",
      "A   1993-05-08   16.8\r\n",
      "B   1995-09-06   14.7\r\n",
      "E   1991-02-18   14.6\r\n",
      "A   1993-01-11   14.5\r\n",
      "A   1990-07-22   18.4\r\n",
      "C   1994-09-09   15.3\r\n",
      "C   1994-07-27   10.2\r\n",
      "D   1990-10-10   15.1\r\n",
      "A   1990-09-05   11.0\r\n",
      "B   1991-10-01   15.0\r\n",
      "A   1994-10-25   13.1"
     ]
    }
   ],
   "source": [
    "!cat ../pregunta_06/data.csv"
   ]
  },
  {
   "cell_type": "code",
   "execution_count": 35,
   "id": "cf4da55f",
   "metadata": {},
   "outputs": [
    {
     "name": "stdout",
     "output_type": "stream",
     "text": [
      "Overwriting mapper_06.py\n"
     ]
    }
   ],
   "source": [
    "%%writefile mapper_06.py\n",
    "import sys\n",
    "#from datetime import datetime\n",
    "print(sys.stdin.readlines()[0].split('   ')[1].strip())\n",
    "if __name__ == \"__main__\":\n",
    "    print(sys.stdin)"
   ]
  },
  {
   "cell_type": "code",
   "execution_count": 80,
   "id": "53de257f",
   "metadata": {},
   "outputs": [
    {
     "name": "stdout",
     "output_type": "stream",
     "text": [
      "Overwriting mapper_06.py\n"
     ]
    }
   ],
   "source": [
    "%%writefile mapper_06.py\n",
    "import sys\n",
    "#from datetime import datetime\n",
    "#print(sys.stdin.readlines()[0].split('   ')[2].strip())\n",
    "if __name__ == \"__main__\":\n",
    "    for line in sys.stdin:\n",
    "        sys.stdout.write(\"{}\\t{}\\n\".format(str(line.split('   ')[0]), float(line.split('   ')[2])))"
   ]
  },
  {
   "cell_type": "code",
   "execution_count": 81,
   "id": "bb86599c",
   "metadata": {},
   "outputs": [
    {
     "name": "stdout",
     "output_type": "stream",
     "text": [
      "B\t14.1\r\n",
      "E\t12.2\r\n",
      "E\t17.0\r\n",
      "C\t13.8\r\n",
      "E\t16.9\r\n",
      "A\t14.8\r\n",
      "B\t12.1\r\n",
      "E\t13.2\r\n",
      "E\t11.3\r\n",
      "E\t16.4\r\n",
      "E\t10.5\r\n",
      "A\t12.6\r\n",
      "A\t10.7\r\n",
      "E\t16.8\r\n",
      "E\t16.9\r\n",
      "B\t17.0\r\n",
      "A\t13.6\r\n",
      "B\t10.7\r\n",
      "B\t13.8\r\n",
      "B\t14.9\r\n",
      "E\t18.4\r\n",
      "E\t15.3\r\n",
      "A\t18.2\r\n",
      "B\t14.4\r\n",
      "B\t13.5\r\n",
      "A\t12.6\r\n",
      "C\t10.7\r\n",
      "E\t18.8\r\n",
      "A\t14.9\r\n",
      "A\t16.8\r\n",
      "B\t14.7\r\n",
      "E\t14.6\r\n",
      "A\t14.5\r\n",
      "A\t18.4\r\n",
      "C\t15.3\r\n",
      "C\t10.2\r\n",
      "D\t15.1\r\n",
      "A\t11.0\r\n",
      "B\t15.0\r\n",
      "A\t13.1\r\n"
     ]
    }
   ],
   "source": [
    "!cat ../pregunta_06/data.csv|python mapper_06.py"
   ]
  },
  {
   "cell_type": "code",
   "execution_count": null,
   "id": "81bc185f",
   "metadata": {},
   "outputs": [],
   "source": []
  },
  {
   "cell_type": "code",
   "execution_count": 82,
   "id": "5e8d8843",
   "metadata": {},
   "outputs": [
    {
     "name": "stdout",
     "output_type": "stream",
     "text": [
      "Overwriting reducer_06.py\n"
     ]
    }
   ],
   "source": [
    "%%writefile reducer_06.py\n",
    "\n",
    "#! /usr/bin python3\n",
    "import sys\n",
    "\n",
    "if __name__ == '__main__':\n",
    "\n",
    "    curkey = None\n",
    "    max = 0\n",
    "    for line in sys.stdin:\n",
    "\n",
    "        key, val = line.split(\"\\t\")\n",
    "        val = float(val)\n",
    "\n",
    "        if key == curkey:\n",
    "            if val > max:\n",
    "                max = val\n",
    "            if val < min:\n",
    "                min = val\n",
    "        else:\n",
    "            if curkey is not None:\n",
    "                sys.stdout.write(\"{}\\t{}\\t{}\\n\".format(curkey, max, min))\n",
    "            curkey = key\n",
    "            max = val\n",
    "            min = val\n",
    "\n",
    "    sys.stdout.write(\"{}\\t{}\\t{}\\n\".format(curkey, max, min))"
   ]
  },
  {
   "cell_type": "code",
   "execution_count": 83,
   "id": "858b8ca6",
   "metadata": {},
   "outputs": [
    {
     "name": "stdout",
     "output_type": "stream",
     "text": [
      "A\t18.4\t10.7\r\n",
      "B\t17.0\t10.7\r\n",
      "C\t15.3\t10.2\r\n",
      "D\t15.1\t15.1\r\n",
      "E\t18.8\t10.5\r\n"
     ]
    }
   ],
   "source": [
    "!cat ../pregunta_06/data.csv|python mapper_06.py|sort|python reducer_06.py"
   ]
  },
  {
   "cell_type": "markdown",
   "id": "b5e1fc01",
   "metadata": {},
   "source": [
    "# pregunta 07"
   ]
  },
  {
   "cell_type": "code",
   "execution_count": 74,
   "id": "632ce239",
   "metadata": {},
   "outputs": [
    {
     "name": "stdout",
     "output_type": "stream",
     "text": [
      "Pregunta\r\n",
      "===========================================================================\r\n",
      "\r\n",
      "Escriba un job de hadoop (en Python) que ordene el archivo `data.csv` por \r\n",
      "letra y valor (3ra columna).\r\n"
     ]
    }
   ],
   "source": [
    "!cat ../pregunta_07/README.txt"
   ]
  },
  {
   "cell_type": "code",
   "execution_count": 76,
   "id": "8e7b9a8e",
   "metadata": {
    "scrolled": true
   },
   "outputs": [
    {
     "name": "stdout",
     "output_type": "stream",
     "text": [
      "E   1990-05-03   16\t\r\n",
      "A   1992-09-19   9\t\r\n",
      "A   1990-10-06   10\t\r\n",
      "E   1994-02-14   10\t\r\n",
      "E   1999-09-10   11\t\r\n",
      "A   1992-08-22   16\t\r\n",
      "A   1993-05-08   17\t\r\n",
      "A   1988-04-27   121\t\r\n",
      "B   1995-08-23   1\t\r\n",
      "B   1991-10-01   9\t\r\n",
      "B   1999-10-21   13\t\r\n",
      "B   1997-04-09   14\t\r\n",
      "B   1995-09-06   15\t\r\n",
      "A   1990-08-31   12\t\r\n",
      "A   1997-12-15   13\t\r\n",
      "A   1994-10-25   14\t\r\n",
      "B   1993-03-02   16\t\r\n",
      "B   1999-08-28   17\t\r\n",
      "E   1998-09-14   2\t\r\n",
      "E   1995-04-25   3\t\r\n",
      "E   1993-07-21   4\t\r\n",
      "E   1985-02-12   17\t\r\n",
      "E   1990-02-09   18\t\r\n",
      "E   1993-12-27   19\t\r\n",
      "E   1991-02-18   141\r\n",
      "A   1990-07-22   0\t\r\n",
      "A   1990-09-26   8\t\r\n",
      "B   1999-06-11   121\t\r\n",
      "B   1998-11-22   131\t\r\n",
      "C   1994-01-25   10\t\r\n",
      "C   1991-02-12   13\t\r\n",
      "B   1994-08-30   18\t\r\n",
      "C   1994-09-09   15\t\r\n",
      "C   1994-07-27   104\t\r\n",
      "D   1990-10-10   15\t\r\n",
      "A   1990-09-05   11\t\r\n",
      "A   1993-01-11   15\t\r\n",
      "E   1993-01-27   9\t\r\n",
      "E   1999-12-06   12\t\r\n",
      "E   1999-01-14   15\t"
     ]
    }
   ],
   "source": [
    "!cat ../pregunta_07/data.csv"
   ]
  },
  {
   "cell_type": "code",
   "execution_count": 78,
   "id": "2b879c85",
   "metadata": {},
   "outputs": [
    {
     "name": "stdout",
     "output_type": "stream",
     "text": [
      "#\r\n",
      "import os\r\n",
      "\r\n",
      "result = os.popen(\"cat data.csv | python3 mapper.py | sort | python3 reducer.py\").read()\r\n",
      "\r\n",
      "lines = [line.strip().replace(\"\\n\", \"\") for line in result.split(\"\\n\")]\r\n",
      "\r\n",
      "expected = \"\"\"A   1990-07-22   0\r\n",
      "A   1990-09-26   8\r\n",
      "A   1992-09-19   9\r\n",
      "A   1990-10-06   10\r\n",
      "A   1990-09-05   11\r\n",
      "A   1990-08-31   12\r\n",
      "A   1997-12-15   13\r\n",
      "A   1994-10-25   14\r\n",
      "A   1993-01-11   15\r\n",
      "A   1992-08-22   16\r\n",
      "A   1993-05-08   17\r\n",
      "A   1988-04-27   121\r\n",
      "B   1995-08-23   1\r\n",
      "B   1991-10-01   9\r\n",
      "B   1999-10-21   13\r\n",
      "B   1997-04-09   14\r\n",
      "B   1995-09-06   15\r\n",
      "B   1993-03-02   16\r\n",
      "B   1999-08-28   17\r\n",
      "B   1994-08-30   18\r\n",
      "B   1999-06-11   121\r\n",
      "B   1998-11-22   131\r\n",
      "C   1994-01-25   10\r\n",
      "C   1991-02-12   13\r\n",
      "C   1994-09-09   15\r\n",
      "C   1994-07-27   104\r\n",
      "D   1990-10-10   15\r\n",
      "E   1998-09-14   2\r\n",
      "E   1995-04-25   3\r\n",
      "E   1993-07-21   4\r\n",
      "E   1993-01-27   9\r\n",
      "E   1994-02-14   10\r\n",
      "E   1999-09-10   11\r\n",
      "E   1999-12-06   12\r\n",
      "E   1999-01-14   15\r\n",
      "E   1990-05-03   16\r\n",
      "E   1985-02-12   17\r\n",
      "E   1990-02-09   18\r\n",
      "E   1993-12-27   19\r\n",
      "E   1991-02-18   141\r\n",
      "\"\"\".split(\r\n",
      "    \"\\n\"\r\n",
      ")\r\n",
      "\r\n",
      "if len(lines) != len(expected):\r\n",
      "    raise Exception(\"Wrong number of lines\")\r\n",
      "\r\n",
      "for solution, expected in zip(lines, expected):\r\n",
      "    assert (\r\n",
      "        solution.strip() == expected.strip()\r\n",
      "    ), f\"Expected: {expected}\\nGot: {solution}\"\r\n"
     ]
    }
   ],
   "source": [
    "!cat ../pregunta_07/test.py"
   ]
  },
  {
   "cell_type": "code",
   "execution_count": 127,
   "id": "3a0edc9a",
   "metadata": {},
   "outputs": [
    {
     "name": "stdout",
     "output_type": "stream",
     "text": [
      "Overwriting mapper_07.py\n"
     ]
    }
   ],
   "source": [
    "%%writefile mapper_07.py\n",
    "import sys\n",
    "#from datetime import datetime\n",
    "#print(sys.stdin.readlines()[0].split('   ')[2].strip())\n",
    "maxi = 3\n",
    "if __name__ == \"__main__\":\n",
    "    for line in sys.stdin:\n",
    "        strnum = line.split('   ')[2].strip()\n",
    "        strnum = strnum.zfill(maxi)\n",
    "        sys.stdout.write(\"{}   {}   {}\\n\".format(str(line.split('   ')[0]), strnum , line.split('   ')[1]))"
   ]
  },
  {
   "cell_type": "code",
   "execution_count": 128,
   "id": "66e49d34",
   "metadata": {},
   "outputs": [
    {
     "name": "stdout",
     "output_type": "stream",
     "text": [
      "A   000   1990-07-22\r\n",
      "A   008   1990-09-26\r\n",
      "A   009   1992-09-19\r\n",
      "A   010   1990-10-06\r\n",
      "A   011   1990-09-05\r\n",
      "A   012   1990-08-31\r\n",
      "A   013   1997-12-15\r\n",
      "A   014   1994-10-25\r\n",
      "A   015   1993-01-11\r\n",
      "A   016   1992-08-22\r\n",
      "A   017   1993-05-08\r\n",
      "A   121   1988-04-27\r\n",
      "B   001   1995-08-23\r\n",
      "B   009   1991-10-01\r\n",
      "B   013   1999-10-21\r\n",
      "B   014   1997-04-09\r\n",
      "B   015   1995-09-06\r\n",
      "B   016   1993-03-02\r\n",
      "B   017   1999-08-28\r\n",
      "B   018   1994-08-30\r\n",
      "B   121   1999-06-11\r\n",
      "B   131   1998-11-22\r\n",
      "C   010   1994-01-25\r\n",
      "C   013   1991-02-12\r\n",
      "C   015   1994-09-09\r\n",
      "C   104   1994-07-27\r\n",
      "D   015   1990-10-10\r\n",
      "E   002   1998-09-14\r\n",
      "E   003   1995-04-25\r\n",
      "E   004   1993-07-21\r\n",
      "E   009   1993-01-27\r\n",
      "E   010   1994-02-14\r\n",
      "E   011   1999-09-10\r\n",
      "E   012   1999-12-06\r\n",
      "E   015   1999-01-14\r\n",
      "E   016   1990-05-03\r\n",
      "E   017   1985-02-12\r\n",
      "E   018   1990-02-09\r\n",
      "E   019   1993-12-27\r\n",
      "E   141   1991-02-18\r\n"
     ]
    }
   ],
   "source": [
    "!cat ../pregunta_07/data.csv|python mapper_07.py|sort"
   ]
  },
  {
   "cell_type": "code",
   "execution_count": 108,
   "id": "2e77bd0d",
   "metadata": {},
   "outputs": [
    {
     "data": {
      "text/plain": [
       "'019'"
      ]
     },
     "execution_count": 108,
     "metadata": {},
     "output_type": "execute_result"
    }
   ],
   "source": [
    "maxi = 3\n",
    "a = '19'\n",
    "a.zfill(maxi)"
   ]
  },
  {
   "cell_type": "code",
   "execution_count": null,
   "id": "f1128711",
   "metadata": {},
   "outputs": [],
   "source": []
  },
  {
   "cell_type": "code",
   "execution_count": 129,
   "id": "d458e5d4",
   "metadata": {},
   "outputs": [
    {
     "name": "stdout",
     "output_type": "stream",
     "text": [
      "Overwriting reducer_07.py\n"
     ]
    }
   ],
   "source": [
    "%%writefile reducer_07.py\n",
    "import sys\n",
    "\n",
    "if __name__ == \"__main__\":\n",
    "    for line in sys.stdin:\n",
    "\n",
    "        sys.stdout.write(\"{}   {}   {}\\n\".format(str(line.split('   ')[0]), line.split('   ')[2].strip() , int(line.split('   ')[1])))"
   ]
  },
  {
   "cell_type": "code",
   "execution_count": 131,
   "id": "bccc9025",
   "metadata": {},
   "outputs": [
    {
     "name": "stdout",
     "output_type": "stream",
     "text": [
      "A   1990-07-22   0\r\n",
      "A   1990-09-26   8\r\n",
      "A   1992-09-19   9\r\n",
      "A   1990-10-06   10\r\n",
      "A   1990-09-05   11\r\n",
      "A   1990-08-31   12\r\n",
      "A   1997-12-15   13\r\n",
      "A   1994-10-25   14\r\n",
      "A   1993-01-11   15\r\n",
      "A   1992-08-22   16\r\n",
      "A   1993-05-08   17\r\n",
      "A   1988-04-27   121\r\n",
      "B   1995-08-23   1\r\n",
      "B   1991-10-01   9\r\n",
      "B   1999-10-21   13\r\n",
      "B   1997-04-09   14\r\n",
      "B   1995-09-06   15\r\n",
      "B   1993-03-02   16\r\n",
      "B   1999-08-28   17\r\n",
      "B   1994-08-30   18\r\n",
      "B   1999-06-11   121\r\n",
      "B   1998-11-22   131\r\n",
      "C   1994-01-25   10\r\n",
      "C   1991-02-12   13\r\n",
      "C   1994-09-09   15\r\n",
      "C   1994-07-27   104\r\n",
      "D   1990-10-10   15\r\n",
      "E   1998-09-14   2\r\n",
      "E   1995-04-25   3\r\n",
      "E   1993-07-21   4\r\n",
      "E   1993-01-27   9\r\n",
      "E   1994-02-14   10\r\n",
      "E   1999-09-10   11\r\n",
      "E   1999-12-06   12\r\n",
      "E   1999-01-14   15\r\n",
      "E   1990-05-03   16\r\n",
      "E   1985-02-12   17\r\n",
      "E   1990-02-09   18\r\n",
      "E   1993-12-27   19\r\n",
      "E   1991-02-18   141\r\n"
     ]
    }
   ],
   "source": [
    "!cat ../pregunta_07/data.csv|python mapper_07.py|sort|python reducer_07.py"
   ]
  },
  {
   "cell_type": "markdown",
   "id": "5835fd51",
   "metadata": {},
   "source": [
    "# Pregunta 08"
   ]
  },
  {
   "cell_type": "code",
   "execution_count": 135,
   "id": "d7c537f7",
   "metadata": {},
   "outputs": [
    {
     "name": "stdout",
     "output_type": "stream",
     "text": [
      "\r\n",
      "Pregunta\r\n",
      "===========================================================================\r\n",
      "\r\n",
      "Escriba un job de hadoop (en Python) que compute la suma y el promedio de \r\n",
      "la tercera columna por letra del  archivo `data.csv`.  \r\n"
     ]
    }
   ],
   "source": [
    "!cat ../pregunta_08/README.txt"
   ]
  },
  {
   "cell_type": "code",
   "execution_count": 139,
   "id": "99fbe08d",
   "metadata": {},
   "outputs": [
    {
     "name": "stdout",
     "output_type": "stream",
     "text": [
      "B   1999-08-28   14\r\n",
      "E   1999-12-06   12\r\n",
      "E   1993-07-21   17\r\n",
      "C   1991-02-12   13\r\n",
      "E   1995-04-25   16\r\n",
      "A   1992-08-22   14\r\n",
      "B   1999-06-11   12\r\n",
      "E   1993-01-27   13\r\n",
      "E   1999-09-10   11\r\n",
      "E   1990-05-03   16\r\n",
      "E   1994-02-14   10\r\n",
      "A   1988-04-27   12\r\n",
      "A   1990-10-06   10\r\n",
      "E   1985-02-12   16\r\n",
      "E   1998-09-14   16\r\n",
      "B   1994-08-30   17\r\n",
      "A   1997-12-15   13\r\n",
      "B   1995-08-23   10\r\n",
      "B   1998-11-22   13\r\n",
      "B   1997-04-09   14\r\n",
      "E   1993-12-27   18\r\n",
      "E   1999-01-14   15\r\n",
      "A   1992-09-19   18\r\n",
      "B   1993-03-02   14\r\n",
      "B   1999-10-21   13\r\n",
      "A   1990-08-31   12\r\n",
      "C   1994-01-25   10\r\n",
      "E   1990-02-09   18\r\n",
      "A   1990-09-26   14\r\n",
      "A   1993-05-08   16\r\n",
      "B   1995-09-06   14\r\n",
      "E   1991-02-18   14\r\n",
      "A   1993-01-11   14\r\n",
      "A   1990-07-22   18\r\n",
      "C   1994-09-09   15\r\n",
      "C   1994-07-27   10\r\n",
      "D   1990-10-10   15\r\n",
      "A   1990-09-05   11\r\n",
      "B   1991-10-01   15\r\n",
      "A   1994-10-25   13"
     ]
    }
   ],
   "source": [
    "!cat ../pregunta_08/data.csv"
   ]
  },
  {
   "cell_type": "code",
   "execution_count": 144,
   "id": "002a4cf5",
   "metadata": {},
   "outputs": [
    {
     "name": "stdout",
     "output_type": "stream",
     "text": [
      "Overwriting mapper_08.py\n"
     ]
    }
   ],
   "source": [
    "%%writefile mapper_08.py\n",
    "import sys\n",
    "#from datetime import datetime\n",
    "#print(sys.stdin.readlines()[0].split('   ')[2].strip())\n",
    "maxi = 3\n",
    "if __name__ == \"__main__\":\n",
    "    for line in sys.stdin:\n",
    "        sys.stdout.write(\"{}   {}   1\\n\".format(str(line.split('   ')[0]), line.split('   ')[2].strip()))"
   ]
  },
  {
   "cell_type": "code",
   "execution_count": 146,
   "id": "312b7303",
   "metadata": {},
   "outputs": [
    {
     "name": "stdout",
     "output_type": "stream",
     "text": [
      "A   10   1\r\n",
      "A   11   1\r\n",
      "A   12   1\r\n",
      "A   12   1\r\n",
      "A   13   1\r\n",
      "A   13   1\r\n",
      "A   14   1\r\n",
      "A   14   1\r\n",
      "A   14   1\r\n",
      "A   16   1\r\n",
      "A   18   1\r\n",
      "A   18   1\r\n",
      "B   10   1\r\n",
      "B   12   1\r\n",
      "B   13   1\r\n",
      "B   13   1\r\n",
      "B   14   1\r\n",
      "B   14   1\r\n",
      "B   14   1\r\n",
      "B   14   1\r\n",
      "B   15   1\r\n",
      "B   17   1\r\n",
      "C   10   1\r\n",
      "C   10   1\r\n",
      "C   13   1\r\n",
      "C   15   1\r\n",
      "D   15   1\r\n",
      "E   10   1\r\n",
      "E   11   1\r\n",
      "E   12   1\r\n",
      "E   13   1\r\n",
      "E   14   1\r\n",
      "E   15   1\r\n",
      "E   16   1\r\n",
      "E   16   1\r\n",
      "E   16   1\r\n",
      "E   16   1\r\n",
      "E   17   1\r\n",
      "E   18   1\r\n",
      "E   18   1\r\n"
     ]
    }
   ],
   "source": [
    "!cat ../pregunta_08/data.csv|python mapper_08.py|sort"
   ]
  },
  {
   "cell_type": "code",
   "execution_count": 183,
   "id": "85c2ea60",
   "metadata": {},
   "outputs": [
    {
     "name": "stdout",
     "output_type": "stream",
     "text": [
      "Overwriting reducer_08.py\n"
     ]
    }
   ],
   "source": [
    "%%writefile reducer_08.py\n",
    "\n",
    "#! /usr/bin python3\n",
    "import sys\n",
    "\n",
    "if __name__ == '__main__':\n",
    "\n",
    "    curkey = None\n",
    "    totalv = 0\n",
    "    totalc = 0\n",
    "    for line in sys.stdin:\n",
    "\n",
    "        key, val, count = line.split(\"   \")\n",
    "        val = float(val)\n",
    "        count = float(count)\n",
    "        #print (key)\n",
    "\n",
    "        if key == curkey:\n",
    "            totalv += val\n",
    "            totalc += count\n",
    "\n",
    "        else:\n",
    "            if curkey is not None:\n",
    "                a =totalv/totalc\n",
    "                #print(a)\n",
    "                #print(totalc)\n",
    "                sys.stdout.write(\"{}\\t{}\\t{}\\n\".format(curkey, totalv, a))\n",
    "            curkey = key\n",
    "            totalv = val\n",
    "            totalc = count\n",
    "            #a =totalv/totalc\n",
    "            #print(a)\n",
    "            #print(totalc)\n",
    "            #print('none')\n",
    "    \n",
    "    a =totalv/totalc\n",
    "    sys.stdout.write(\"{}\\t{}\\t{}\\n\".format(curkey, totalv, a))"
   ]
  },
  {
   "cell_type": "code",
   "execution_count": 184,
   "id": "e62b7f98",
   "metadata": {},
   "outputs": [
    {
     "name": "stdout",
     "output_type": "stream",
     "text": [
      "A\t165.0\t13.75\r\n",
      "B\t136.0\t13.6\r\n",
      "C\t48.0\t12.0\r\n",
      "D\t15.0\t15.0\r\n",
      "E\t192.0\t14.76923076923077\r\n"
     ]
    }
   ],
   "source": [
    "!cat ../pregunta_08/data.csv|python mapper_08.py|sort|python reducer_08.py"
   ]
  },
  {
   "cell_type": "markdown",
   "id": "baa20eee",
   "metadata": {},
   "source": [
    "# pregunta 09"
   ]
  },
  {
   "cell_type": "code",
   "execution_count": 186,
   "id": "48913281",
   "metadata": {},
   "outputs": [
    {
     "name": "stdout",
     "output_type": "stream",
     "text": [
      "Pregunta\r\n",
      "===========================================================================\r\n",
      "\r\n",
      "Escriba un job de hadoop (en Python) que obtenga los 5 registros con \r\n",
      "valores más pequeños en la tercera columna del  archivo `data.csv`.  \r\n"
     ]
    }
   ],
   "source": [
    "!cat ../pregunta_09/README.txt"
   ]
  },
  {
   "cell_type": "code",
   "execution_count": 190,
   "id": "5404fa3c",
   "metadata": {},
   "outputs": [
    {
     "name": "stdout",
     "output_type": "stream",
     "text": [
      "B   1999-08-28   14\r\n",
      "E   1999-12-06   121\r\n",
      "E   1993-07-21   17\r\n",
      "C   1991-02-12   2\r\n",
      "E   1995-04-25   161\r\n",
      "A   1992-08-22   14\r\n",
      "B   1999-06-11   12\r\n",
      "E   1993-01-27   8\r\n",
      "E   1999-09-10   11\r\n",
      "E   1990-05-03   16\r\n",
      "E   1994-02-14   101\r\n",
      "A   1988-04-27   9\r\n",
      "A   1990-10-06   10\r\n",
      "E   1985-02-12   16\r\n",
      "E   1998-09-14   7\r\n",
      "B   1994-08-30   17\r\n",
      "A   1997-12-15   13\r\n",
      "B   1995-08-23   101\r\n",
      "B   1998-11-22   13\r\n",
      "B   1997-04-09   6\r\n",
      "E   1993-12-27   181\r\n",
      "E   1999-01-14   15\r\n",
      "A   1992-09-19   18\r\n",
      "B   1993-03-02   14\r\n",
      "B   1999-10-21   131\r\n",
      "A   1990-08-31   12\r\n",
      "C   1994-01-25   10\r\n",
      "E   1990-02-09   18\r\n",
      "A   1990-09-26   5\r\n",
      "A   1993-05-08   16\r\n",
      "B   1995-09-06   141\r\n",
      "E   1991-02-18   14\r\n",
      "A   1993-01-11   141\r\n",
      "A   1990-07-22   4\r\n",
      "C   1994-09-09   151\r\n",
      "C   1994-07-27   1\r\n",
      "D   1990-10-10   151\r\n",
      "A   1990-09-05   11\r\n",
      "B   1991-10-01   151\r\n",
      "A   1994-10-25   13"
     ]
    }
   ],
   "source": [
    "!cat ../pregunta_09/data.csv"
   ]
  },
  {
   "cell_type": "code",
   "execution_count": 196,
   "id": "b7287941",
   "metadata": {},
   "outputs": [
    {
     "name": "stdout",
     "output_type": "stream",
     "text": [
      "Overwriting mapper_09.py\n"
     ]
    }
   ],
   "source": [
    "%%writefile mapper_09.py\n",
    "import sys\n",
    "#from datetime import datetime\n",
    "#print(sys.stdin.readlines()[0].split('   ')[2].strip())\n",
    "maxi = 3\n",
    "if __name__ == \"__main__\":\n",
    "    for line in sys.stdin:\n",
    "        strnum = line.split('   ')[2].strip()\n",
    "        strnum = strnum.zfill(maxi)\n",
    "        sys.stdout.write(\"{}   {}   {}\\n\".format(strnum, line.split('   ')[0] , line.split('   ')[1]))"
   ]
  },
  {
   "cell_type": "code",
   "execution_count": 198,
   "id": "aa3271a2",
   "metadata": {},
   "outputs": [
    {
     "name": "stdout",
     "output_type": "stream",
     "text": [
      "001   C   1994-07-27\r\n",
      "002   C   1991-02-12\r\n",
      "004   A   1990-07-22\r\n",
      "005   A   1990-09-26\r\n",
      "006   B   1997-04-09\r\n",
      "007   E   1998-09-14\r\n",
      "008   E   1993-01-27\r\n",
      "009   A   1988-04-27\r\n",
      "010   A   1990-10-06\r\n",
      "010   C   1994-01-25\r\n",
      "011   A   1990-09-05\r\n",
      "011   E   1999-09-10\r\n",
      "012   A   1990-08-31\r\n",
      "012   B   1999-06-11\r\n",
      "013   A   1994-10-25\r\n",
      "013   A   1997-12-15\r\n",
      "013   B   1998-11-22\r\n",
      "014   A   1992-08-22\r\n",
      "014   B   1993-03-02\r\n",
      "014   B   1999-08-28\r\n",
      "014   E   1991-02-18\r\n",
      "015   E   1999-01-14\r\n",
      "016   A   1993-05-08\r\n",
      "016   E   1985-02-12\r\n",
      "016   E   1990-05-03\r\n",
      "017   B   1994-08-30\r\n",
      "017   E   1993-07-21\r\n",
      "018   A   1992-09-19\r\n",
      "018   E   1990-02-09\r\n",
      "101   B   1995-08-23\r\n",
      "101   E   1994-02-14\r\n",
      "121   E   1999-12-06\r\n",
      "131   B   1999-10-21\r\n",
      "141   A   1993-01-11\r\n",
      "141   B   1995-09-06\r\n",
      "151   B   1991-10-01\r\n",
      "151   C   1994-09-09\r\n",
      "151   D   1990-10-10\r\n",
      "161   E   1995-04-25\r\n",
      "181   E   1993-12-27\r\n"
     ]
    }
   ],
   "source": [
    "!cat ../pregunta_09/data.csv|python mapper_09.py|sort"
   ]
  },
  {
   "cell_type": "code",
   "execution_count": 207,
   "id": "707b5616",
   "metadata": {},
   "outputs": [
    {
     "name": "stdout",
     "output_type": "stream",
     "text": [
      "Overwriting reducer_09.py\n"
     ]
    }
   ],
   "source": [
    "%%writefile reducer_09.py\n",
    "import sys\n",
    "\n",
    "if __name__ == \"__main__\":\n",
    "    count = 0\n",
    "    for line in sys.stdin:\n",
    "        sys.stdout.write(\"{}   {}   {}\\n\".format(line.split('   ')[1], line.split('   ')[2].strip() , int(line.split('   ')[0])))\n",
    "        if count >= 5: break;\n",
    "        count = count +1"
   ]
  },
  {
   "cell_type": "code",
   "execution_count": 188,
   "id": "7c7de9b8",
   "metadata": {},
   "outputs": [
    {
     "name": "stdout",
     "output_type": "stream",
     "text": [
      "#\r\n",
      "import os\r\n",
      "\r\n",
      "result = os.popen(\"cat data.csv | python3 mapper.py | sort | python3 reducer.py\").read()\r\n",
      "\r\n",
      "lines = [line.strip().replace(\"\\n\", \"\") for line in result.split(\"\\n\")]\r\n",
      "\r\n",
      "expected = \"\"\"C   1994-07-27   1\t\r\n",
      "C   1991-02-12   2\t\r\n",
      "A   1990-07-22   4\t\r\n",
      "A   1990-09-26   5\t\r\n",
      "B   1997-04-09   6\t\r\n",
      "E   1998-09-14   7\r\n",
      "\"\"\".split(\r\n",
      "    \"\\n\"\r\n",
      ")\r\n",
      "\r\n",
      "if len(lines) != len(expected):\r\n",
      "    raise Exception(\"Wrong number of lines\")\r\n",
      "\r\n",
      "for solution, expected in zip(lines, expected):\r\n",
      "    assert (\r\n",
      "        solution.strip() == expected.strip()\r\n",
      "    ), f\"Expected: {expected}\\nGot: {solution}\"\r\n"
     ]
    }
   ],
   "source": [
    "!cat ../pregunta_09/test.py"
   ]
  },
  {
   "cell_type": "code",
   "execution_count": 209,
   "id": "ee00daac",
   "metadata": {},
   "outputs": [
    {
     "name": "stdout",
     "output_type": "stream",
     "text": [
      "C   1994-07-27   1\r\n",
      "C   1991-02-12   2\r\n",
      "A   1990-07-22   4\r\n",
      "A   1990-09-26   5\r\n",
      "B   1997-04-09   6\r\n",
      "E   1998-09-14   7\r\n"
     ]
    }
   ],
   "source": [
    "!cat ../pregunta_09/data.csv|python mapper_09.py|sort|python reducer_09.py"
   ]
  },
  {
   "cell_type": "markdown",
   "id": "4e19b4b6",
   "metadata": {},
   "source": [
    "# pregunta 10"
   ]
  },
  {
   "cell_type": "code",
   "execution_count": 212,
   "id": "7ba206b5",
   "metadata": {},
   "outputs": [
    {
     "name": "stdout",
     "output_type": "stream",
     "text": [
      "Pregunta\r\n",
      "===========================================================================\r\n",
      "\r\n",
      "Escriba un job de hadoop (en Python) que obtenga las letras asociadas \r\n",
      "(columna 2) a cada clave (columna 1) del  archivo `data.csv`.  \r\n"
     ]
    }
   ],
   "source": [
    "!cat ../pregunta_10/README.txt"
   ]
  },
  {
   "cell_type": "code",
   "execution_count": 216,
   "id": "c4a4e8ae",
   "metadata": {},
   "outputs": [
    {
     "name": "stdout",
     "output_type": "stream",
     "text": [
      "0\tC,F,A,B,D,I,H\r\n",
      "1\tA,H,C,I,F,D,B\r\n",
      "2\tB,H,I,F,G\r\n",
      "3\tC,B,D\r\n",
      "4\tD,C,I,G,H\r\n",
      "5\tB,D,C,H,A\r\n",
      "6\tH,D,C,B,G,F,D\r\n",
      "7\tF,A,G,C,B,D,H,I\r\n",
      "8\tF,A,I,B,D\r\n",
      "9\tF,A,B,D,C,D,G,I\r\n",
      "10\tD,B,A,C,H\r\n",
      "11\tG,D,B,H,I,C,F\r\n",
      "12\tD,D,C,F,B,A,H,G\r\n",
      "13\tF,A,D\r\n",
      "14\tD,A,C,G\r\n",
      "15\tH,A,F,D,B,C,G,I\r\n",
      "16\tA,I,B,D\r\n",
      "17\tC,B,G,A,D,H,F\r\n",
      "18\tI,B,A,H,D,F\r\n",
      "19\tB,D,F,D,I\r\n",
      "20\tC,B,H,F,I,G,D,D\r\n",
      "21\tF,A,B,C,G,D\r\n",
      "22\tI,G,F,C,H,B\r\n",
      "23\tH,F,C,B,D,D,A\r\n",
      "24\tF,D,G,A,H\r\n",
      "25\tG,H,B,C,A,F,I\r\n",
      "26\tG,F,B,A,H,D,D,I\r\n",
      "27\tB,A,H,I,D,G,F\r\n",
      "28\tA,H,D,F,C\r\n",
      "29\tC,D,A,F,G,B,H,D"
     ]
    }
   ],
   "source": [
    "!cat ../pregunta_10/data.csv"
   ]
  },
  {
   "cell_type": "code",
   "execution_count": 219,
   "id": "8fa14d51",
   "metadata": {},
   "outputs": [
    {
     "data": {
      "text/plain": [
       "list"
      ]
     },
     "execution_count": 219,
     "metadata": {},
     "output_type": "execute_result"
    }
   ],
   "source": [
    "a = [[29],[\"C\",\"D\",\"A\",\"F\",\"G\",\"B\",\"H\",\"D\"]]\n"
   ]
  },
  {
   "cell_type": "code",
   "execution_count": 261,
   "id": "d2f74634",
   "metadata": {},
   "outputs": [
    {
     "name": "stdout",
     "output_type": "stream",
     "text": [
      "Overwriting mapper_10.py\n"
     ]
    }
   ],
   "source": [
    "%%writefile mapper_10.py\n",
    "import sys\n",
    "maxi = 2\n",
    "if __name__ == \"__main__\":\n",
    "    for line in sys.stdin:\n",
    "        a, b = line.split('\\t')\n",
    "        b =list(b.strip().split(','))\n",
    "        a = a.zfill(maxi)\n",
    "        for x in b:\n",
    "            sys.stdout.write(\"{}\\t{}\\n\".format(x,a))\n"
   ]
  },
  {
   "cell_type": "code",
   "execution_count": 262,
   "id": "10b48812",
   "metadata": {},
   "outputs": [
    {
     "name": "stdout",
     "output_type": "stream",
     "text": [
      "C\t00\r\n",
      "F\t00\r\n",
      "A\t00\r\n",
      "B\t00\r\n",
      "D\t00\r\n",
      "I\t00\r\n",
      "H\t00\r\n",
      "A\t01\r\n",
      "H\t01\r\n",
      "C\t01\r\n",
      "I\t01\r\n",
      "F\t01\r\n",
      "D\t01\r\n",
      "B\t01\r\n",
      "B\t02\r\n",
      "H\t02\r\n",
      "I\t02\r\n",
      "F\t02\r\n",
      "G\t02\r\n",
      "C\t03\r\n",
      "B\t03\r\n",
      "D\t03\r\n",
      "D\t04\r\n",
      "C\t04\r\n",
      "I\t04\r\n",
      "G\t04\r\n",
      "H\t04\r\n",
      "B\t05\r\n",
      "D\t05\r\n",
      "C\t05\r\n",
      "H\t05\r\n",
      "A\t05\r\n",
      "H\t06\r\n",
      "D\t06\r\n",
      "C\t06\r\n",
      "B\t06\r\n",
      "G\t06\r\n",
      "F\t06\r\n",
      "D\t06\r\n",
      "F\t07\r\n",
      "A\t07\r\n",
      "G\t07\r\n",
      "C\t07\r\n",
      "B\t07\r\n",
      "D\t07\r\n",
      "H\t07\r\n",
      "I\t07\r\n",
      "F\t08\r\n",
      "A\t08\r\n",
      "I\t08\r\n",
      "B\t08\r\n",
      "D\t08\r\n",
      "F\t09\r\n",
      "A\t09\r\n",
      "B\t09\r\n",
      "D\t09\r\n",
      "C\t09\r\n",
      "D\t09\r\n",
      "G\t09\r\n",
      "I\t09\r\n",
      "D\t10\r\n",
      "B\t10\r\n",
      "A\t10\r\n",
      "C\t10\r\n",
      "H\t10\r\n",
      "G\t11\r\n",
      "D\t11\r\n",
      "B\t11\r\n",
      "H\t11\r\n",
      "I\t11\r\n",
      "C\t11\r\n",
      "F\t11\r\n",
      "D\t12\r\n",
      "D\t12\r\n",
      "C\t12\r\n",
      "F\t12\r\n",
      "B\t12\r\n",
      "A\t12\r\n",
      "H\t12\r\n",
      "G\t12\r\n",
      "F\t13\r\n",
      "A\t13\r\n",
      "D\t13\r\n",
      "D\t14\r\n",
      "A\t14\r\n",
      "C\t14\r\n",
      "G\t14\r\n",
      "H\t15\r\n",
      "A\t15\r\n",
      "F\t15\r\n",
      "D\t15\r\n",
      "B\t15\r\n",
      "C\t15\r\n",
      "G\t15\r\n",
      "I\t15\r\n",
      "A\t16\r\n",
      "I\t16\r\n",
      "B\t16\r\n",
      "D\t16\r\n",
      "C\t17\r\n",
      "B\t17\r\n",
      "G\t17\r\n",
      "A\t17\r\n",
      "D\t17\r\n",
      "H\t17\r\n",
      "F\t17\r\n",
      "I\t18\r\n",
      "B\t18\r\n",
      "A\t18\r\n",
      "H\t18\r\n",
      "D\t18\r\n",
      "F\t18\r\n",
      "B\t19\r\n",
      "D\t19\r\n",
      "F\t19\r\n",
      "D\t19\r\n",
      "I\t19\r\n",
      "C\t20\r\n",
      "B\t20\r\n",
      "H\t20\r\n",
      "F\t20\r\n",
      "I\t20\r\n",
      "G\t20\r\n",
      "D\t20\r\n",
      "D\t20\r\n",
      "F\t21\r\n",
      "A\t21\r\n",
      "B\t21\r\n",
      "C\t21\r\n",
      "G\t21\r\n",
      "D\t21\r\n",
      "I\t22\r\n",
      "G\t22\r\n",
      "F\t22\r\n",
      "C\t22\r\n",
      "H\t22\r\n",
      "B\t22\r\n",
      "H\t23\r\n",
      "F\t23\r\n",
      "C\t23\r\n",
      "B\t23\r\n",
      "D\t23\r\n",
      "D\t23\r\n",
      "A\t23\r\n",
      "F\t24\r\n",
      "D\t24\r\n",
      "G\t24\r\n",
      "A\t24\r\n",
      "H\t24\r\n",
      "G\t25\r\n",
      "H\t25\r\n",
      "B\t25\r\n",
      "C\t25\r\n",
      "A\t25\r\n",
      "F\t25\r\n",
      "I\t25\r\n",
      "G\t26\r\n",
      "F\t26\r\n",
      "B\t26\r\n",
      "A\t26\r\n",
      "H\t26\r\n",
      "D\t26\r\n",
      "D\t26\r\n",
      "I\t26\r\n",
      "B\t27\r\n",
      "A\t27\r\n",
      "H\t27\r\n",
      "I\t27\r\n",
      "D\t27\r\n",
      "G\t27\r\n",
      "F\t27\r\n",
      "A\t28\r\n",
      "H\t28\r\n",
      "D\t28\r\n",
      "F\t28\r\n",
      "C\t28\r\n",
      "C\t29\r\n",
      "D\t29\r\n",
      "A\t29\r\n",
      "F\t29\r\n",
      "G\t29\r\n",
      "B\t29\r\n",
      "H\t29\r\n",
      "D\t29\r\n"
     ]
    }
   ],
   "source": [
    "!cat ../pregunta_10/data.csv|python mapper_10.py"
   ]
  },
  {
   "cell_type": "code",
   "execution_count": 264,
   "id": "cc8144c9",
   "metadata": {},
   "outputs": [
    {
     "name": "stdout",
     "output_type": "stream",
     "text": [
      "Overwriting reducer_10.py\n"
     ]
    }
   ],
   "source": [
    "%%writefile reducer_10.py\n",
    "\n",
    "#! /usr/bin python3\n",
    "\n",
    "import sys\n",
    "\n",
    "if __name__ == '__main__':\n",
    "\n",
    "    curkey = None\n",
    "    total = 0\n",
    "\n",
    "    for line in sys.stdin:\n",
    "        \n",
    "        key, val = line.split(\"\\t\")\n",
    "        val = val.strip()\n",
    "\n",
    "        if key == curkey:\n",
    "            #\n",
    "            # No se ha cambiado de clave. Aca se acumulan los valores para la misma\n",
    "            # clave.\n",
    "            #\n",
    "            cadena = cadena+','+str(int(val))\n",
    "        else:\n",
    "            #\n",
    "            # Se cambio de clave. Se reinicia el acumulador.\n",
    "            #\n",
    "            if curkey is not None:\n",
    "\n",
    "                #\n",
    "                sys.stdout.write(\"{}\\t{}\\n\".format(curkey, cadena))\n",
    "\n",
    "            curkey = key\n",
    "            cadena = str(int(val))\n",
    "\n",
    "    sys.stdout.write(\"{}\\t{}\\n\".format(curkey, cadena))"
   ]
  },
  {
   "cell_type": "code",
   "execution_count": 265,
   "id": "825f7958",
   "metadata": {},
   "outputs": [
    {
     "name": "stdout",
     "output_type": "stream",
     "text": [
      "A\t0,1,5,7,8,9,10,12,13,14,15,16,17,18,21,23,24,25,26,27,28,29\r\n",
      "B\t0,1,2,3,5,6,7,8,9,10,11,12,15,16,17,18,19,20,21,22,23,25,26,27,29\r\n",
      "C\t0,1,3,4,5,6,7,9,10,11,12,14,15,17,20,21,22,23,25,28,29\r\n",
      "D\t0,1,3,4,5,6,6,7,8,9,9,10,11,12,12,13,14,15,16,17,18,19,19,20,20,21,23,23,24,26,26,27,28,29,29\r\n",
      "F\t0,1,2,6,7,8,9,11,12,13,15,17,18,19,20,21,22,23,24,25,26,27,28,29\r\n",
      "G\t2,4,6,7,9,11,12,14,15,17,20,21,22,24,25,26,27,29\r\n",
      "H\t0,1,2,4,5,6,7,10,11,12,15,17,18,20,22,23,24,25,26,27,28,29\r\n",
      "I\t0,1,2,4,7,8,9,11,15,16,18,19,20,22,25,26,27\r\n"
     ]
    }
   ],
   "source": [
    "!cat ../pregunta_10/data.csv|python mapper_10.py|sort|python reducer_10.py"
   ]
  },
  {
   "cell_type": "code",
   "execution_count": 260,
   "id": "31775c61",
   "metadata": {},
   "outputs": [
    {
     "name": "stdout",
     "output_type": "stream",
     "text": [
      "#\r\n",
      "import os\r\n",
      "\r\n",
      "result = os.popen(\"cat data.csv | python3 mapper.py | sort | python3 reducer.py\").read()\r\n",
      "\r\n",
      "lines = [line.strip().replace(\"\\n\", \"\") for line in result.split(\"\\n\")]\r\n",
      "\r\n",
      "expected = \"\"\"A\t0,1,5,7,8,9,10,12,13,14,15,16,17,18,21,23,24,25,26,27,28,29\r\n",
      "B\t0,1,2,3,5,6,7,8,9,10,11,12,15,16,17,18,19,20,21,22,23,25,26,27,29\r\n",
      "C\t0,1,3,4,5,6,7,9,10,11,12,14,15,17,20,21,22,23,25,28,29\r\n",
      "D\t0,1,3,4,5,6,6,7,8,9,9,10,11,12,12,13,14,15,16,17,18,19,19,20,20,21,23,23,24,26,26,27,28,29,29\r\n",
      "F\t0,1,2,6,7,8,9,11,12,13,15,17,18,19,20,21,22,23,24,25,26,27,28,29\r\n",
      "G\t2,4,6,7,9,11,12,14,15,17,20,21,22,24,25,26,27,29\r\n",
      "H\t0,1,2,4,5,6,7,10,11,12,15,17,18,20,22,23,24,25,26,27,28,29\r\n",
      "I\t0,1,2,4,7,8,9,11,15,16,18,19,20,22,25,26,27\r\n",
      "\"\"\".split(\r\n",
      "    \"\\n\"\r\n",
      ")\r\n",
      "\r\n",
      "if len(lines) != len(expected):\r\n",
      "    raise Exception(\"Wrong number of lines\")\r\n",
      "\r\n",
      "for solution, expected in zip(lines, expected):\r\n",
      "    assert (\r\n",
      "        solution.strip() == expected.strip()\r\n",
      "    ), f\"Expected: {expected}\\nGot: {solution}\"\r\n"
     ]
    }
   ],
   "source": [
    "!cat ../pregunta_10/test.py"
   ]
  }
 ],
 "metadata": {
  "kernelspec": {
   "display_name": "Python 3 (ipykernel)",
   "language": "python",
   "name": "python3"
  },
  "language_info": {
   "codemirror_mode": {
    "name": "ipython",
    "version": 3
   },
   "file_extension": ".py",
   "mimetype": "text/x-python",
   "name": "python",
   "nbconvert_exporter": "python",
   "pygments_lexer": "ipython3",
   "version": "3.9.7"
  }
 },
 "nbformat": 4,
 "nbformat_minor": 5
}
